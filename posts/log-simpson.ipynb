{
 "cells": [
  {
   "cell_type": "markdown",
   "id": "39e0a9b5-6b36-44d8-8329-d200a2a2c5ad",
   "metadata": {},
   "source": [
    "Recently at [work](https://monetate.com/) I have been prototyping an idea that requires numerical integration of probabilities and began to suspect I was facing issues with floating point arithmetic in certain circumstances.  To work around these issues, the standard approach is to work with on the [logarithmic scale](https://en.wikipedia.org/wiki/Log_probability) where quite small probabilities are represented by reasonably-sized negative numbers.  This post shows how [Simpsons's rule](https://en.wikipedia.org/wiki/Simpson%27s_rule) for numerical integration can be adapted to work with log scale data.  While the idea is straightforward, I made a few mistakes in the details in my first attempted implementation, so I want to record the correct approach for my future reference. \n",
    "\n",
    "Recall that (a basic form of) Simpson's rule works by dividing the interval of integration $[a, b]$ into many subintervals of length $h = \\frac{b - a}{n}$ with endpoints $x = a + i \\cdot h$ for $i = 0, \\ldots, n$.  On sliding subintervials $[x_i, x_{i + 2}]$, the integrand, $f$, is approximated using a [quadratic interpolation](https://en.wikipedia.org/wiki/Polynomial_interpolation) of the points $(x_i, f(x_i))$, $(x_{i + 1}, f(x_{i + 1}))$, and $(x_{i + 2}, f(x_{i + 2}))$.  Integral over $[x_i, x_{i + 2}]$ of the resulting parabola can be evaluated exactly and used as an approximation of the integral of $f$ if $h$ is small enough.  Combining the integrals over these subintervals with appropriate weights gives the [composite Simpson's rule](https://en.wikipedia.org/wiki/Simpson%27s_rule#Composite_Simpson's_1/3_rule),\n",
    "\n",
    "$$\n",
    "\\int_a^b f(x)\\ dx \\approx \\frac{h}{3} \\left(f(x_0) + 4 \\sum_{i = 1}^{\\lfloor n / 2\\rfloor} f(x_{2 i - 1}) + 2 \\sum_{i = 1}^{\\lfloor n / 2\\rfloor - 1} f(x_{2 i}) + f(x_n) \\right).\n",
    "$$\n",
    "\n",
    "We can rewrite the right hand side as\n",
    "\n",
    "$$\n",
    "\\int_a^b f(x)\\ dx \\approx \\sum_{i = 0}^n w_i \\cdot f(x_i)\n",
    "$$\n",
    "\n",
    "where\n",
    "\n",
    "$$\n",
    "w_i = \\begin{cases}\n",
    "    \\frac{h}{3} & i = 0 \\\\\n",
    "    \\frac{4 \\cdot h}{3} & 0 < i < n \\text{ is odd} \\\\\n",
    "    \\frac{2 \\cdot h}{3} & 0 < i < n \\text{ is even} \\\\\n",
    "    \\frac{h}{3} & i = n\n",
    "\\end{cases}.\n",
    "$$\n",
    "\n",
    "If we want to approximate the logarithm of the integral using values of the function $\\log f$, we can rewrite the above as\n",
    "\n",
    "$$\n",
    "\\begin{align}\n",
    "\\log \\int_a^b f(x)\\ dx\n",
    "    & \\approx \\log \\sum_{i = 0}^n w_i \\cdot f(x_i) \\\\\n",
    "    & = \\log \\sum_{i = 0}^n \\exp(\\log w_i + \\log f(x_i)) \\\\\n",
    "    & = \\operatorname{LSE} (\\log w_0 + \\log f(x_0), \\ldots, \\log w_n + \\log f(x_n)).\n",
    "\\end{align}\n",
    "$$\n",
    "\n",
    "Here $\\text{LSE}$ is the [LogSumExp](https://en.wikipedia.org/wiki/LogSumExp) function, which is [frequently used](https://en.wikipedia.org/wiki/LogSumExp#log-sum-exp_trick_for_log-domain_calculations) for increasing the accuracy of log-probability calculations and is [available](https://docs.scipy.org/doc/scipy/reference/generated/scipy.special.logsumexp.html) in SciPy.  In this case, the log weights are\n",
    "\n",
    "$$\n",
    "\\log w_i = \\begin{cases}\n",
    "    \\log h - \\log 3 & i = 0 \\\\\n",
    "    \\log 4 + \\log h - \\log 3 & 0 < i < n \\text{ is odd} \\\\\n",
    "    \\log 2 + \\log h - \\log 3 & 0 < i < n \\text{ is even} \\\\\n",
    "    \\log h - \\log 3 & i = n\n",
    "\\end{cases}.\n",
    "$$\n",
    "\n",
    "We now implement this log-Simpson's rule in Python."
   ]
  },
  {
   "cell_type": "code",
   "execution_count": 1,
   "id": "d1bb986b-3b87-4976-bd25-2ae2f7716d03",
   "metadata": {},
   "outputs": [],
   "source": [
    "%matplotlib inline"
   ]
  },
  {
   "cell_type": "code",
   "execution_count": 2,
   "id": "3fa628ce-7e46-4b72-b232-41b963d62690",
   "metadata": {},
   "outputs": [],
   "source": [
    "from matplotlib import pyplot as plt\n",
    "import numpy as np\n",
    "from scipy.special import logsumexp\n",
    "from scipy.stats import norm\n",
    "import seaborn as sns"
   ]
  },
  {
   "cell_type": "code",
   "execution_count": 3,
   "id": "4e464158-757b-43d4-9fb8-20f0b2c7faf7",
   "metadata": {},
   "outputs": [],
   "source": [
    "sns.set(color_codes=True)"
   ]
  },
  {
   "cell_type": "code",
   "execution_count": 4,
   "id": "63073ccf-ec47-466f-ae97-8ed2053ceeea",
   "metadata": {},
   "outputs": [],
   "source": [
    "def log_simpson(log_y, dx, axis=-1):\n",
    "    log_w = np.full(log_y.shape[axis], np.log(dx) - np.log(3.0))\n",
    "    log_w[1:-1:2] += np.log(4.0)\n",
    "    log_w[2:-1:2] += np.log(2.0)\n",
    "\n",
    "    shape = [1] * len(log_y.shape)\n",
    "    shape[axis] = log_y.shape[axis]\n",
    "    log_w = np.reshape(log_w, shape)\n",
    "\n",
    "    return logsumexp(log_w + log_y, axis=axis)"
   ]
  },
  {
   "cell_type": "markdown",
   "id": "44b55634-53ec-4536-a788-ea6b8f6db60c",
   "metadata": {},
   "source": [
    "We validate this approximation on the log PDF ($\\varphi$) and CDF ($\\Phi$) of the normal distribution.  First we define an evenly spaced grid of 300 points on which to test."
   ]
  },
  {
   "cell_type": "code",
   "execution_count": 5,
   "id": "191658ba-eac4-4bc4-8a2a-6ce1f769ade7",
   "metadata": {},
   "outputs": [],
   "source": [
    "Z_MAX = norm.isf(1e-6)"
   ]
  },
  {
   "cell_type": "code",
   "execution_count": 6,
   "id": "68377be6-4f36-4270-991d-437c6cfffe2c",
   "metadata": {},
   "outputs": [],
   "source": [
    "N = 300"
   ]
  },
  {
   "cell_type": "code",
   "execution_count": 7,
   "id": "3a1ede7b-b274-4d3e-baad-a57200cbc7b8",
   "metadata": {},
   "outputs": [],
   "source": [
    "z = np.linspace(-Z_MAX, Z_MAX, N)\n",
    "dz = z[1] - z[0]\n",
    "\n",
    "log_φz = norm.logpdf(z)"
   ]
  },
  {
   "cell_type": "markdown",
   "id": "fb99d49c-e60c-43da-a28e-c4698900034f",
   "metadata": {},
   "source": [
    "Since $\\Phi(0) = \\frac{1}{2}$,\n",
    "\n",
    "$$\n",
    "\\log \\int_{-\\infty}^0 \\varphi(z)\\ dz = \\log \\Phi(0) = \\log \\frac{1}{2},\n",
    "$$\n",
    "\n",
    "which is"
   ]
  },
  {
   "cell_type": "code",
   "execution_count": 8,
   "id": "a452d2f9-2460-4e77-a2e3-e547cd333c06",
   "metadata": {},
   "outputs": [
    {
     "data": {
      "text/plain": [
       "-0.6931471805599453"
      ]
     },
     "execution_count": 8,
     "metadata": {},
     "output_type": "execute_result"
    }
   ],
   "source": [
    "np.log(0.5)"
   ]
  },
  {
   "cell_type": "markdown",
   "id": "3175d84a-5e68-4dc9-b291-bb29acb2bd0e",
   "metadata": {},
   "source": [
    "The approximation of this quantity using our log-Simpson's rule is"
   ]
  },
  {
   "cell_type": "code",
   "execution_count": 9,
   "id": "9e96160d-2bf7-4cd5-882a-90ab953147e3",
   "metadata": {},
   "outputs": [
    {
     "data": {
      "text/plain": [
       "-0.6889293664385137"
      ]
     },
     "execution_count": 9,
     "metadata": {},
     "output_type": "execute_result"
    }
   ],
   "source": [
    "log_simpson(np.where(z < 0, log_φz, -np.inf), dz)"
   ]
  },
  {
   "cell_type": "markdown",
   "id": "10c16686-4b8d-4e51-8b34-3fbfccec8452",
   "metadata": {},
   "source": [
    "which is not too far off the true value.  Note that here we use $-\\infty$ as the log integrand for $z \\geq 0$ because $\\log 0 = -\\infty$.\n",
    "\n",
    "To gain further confidence in our approximation, we can approximate\n",
    "\n",
    "$$\n",
    "\\log \\int_{-\\infty}^{z_i} \\varphi(z)\\ dz = \\log \\Phi(z_i)\n",
    "$$\n",
    "\n",
    "for each of our grid points $z_i$ for $i = 2, \\ldots, n$ as follows."
   ]
  },
  {
   "cell_type": "code",
   "execution_count": 10,
   "id": "91f8d7ea-00f2-487b-aaa9-be345e883e14",
   "metadata": {},
   "outputs": [],
   "source": [
    "z_grid = np.tril(np.ones((z.size, z.size)) * z)[2:]\n",
    "log_φz_grid = np.where(z_grid == 0, -np.inf, norm.logpdf(z_grid))"
   ]
  },
  {
   "cell_type": "code",
   "execution_count": 11,
   "id": "8c6e3868-b12f-495b-afbd-5cff711d3ae4",
   "metadata": {},
   "outputs": [],
   "source": [
    "cum_logΦ_approx = log_simpson(log_φz_grid, dz)"
   ]
  },
  {
   "cell_type": "markdown",
   "id": "92dbc9db-530a-4226-aa5a-9cf5b20b7820",
   "metadata": {},
   "source": [
    "We see that, once we have accumulated a reasonable number of intervals, our approximation is reasonable."
   ]
  },
  {
   "cell_type": "code",
   "execution_count": 12,
   "id": "93c015ed-3f26-4175-b1d3-7731e19a6634",
   "metadata": {},
   "outputs": [
    {
     "data": {
      "image/png": "[encoded data removed]",
      "text/plain": [
       "<Figure size 640x480 with 1 Axes>"
      ]
     },
     "metadata": {},
     "output_type": "display_data"
    }
   ],
   "source": [
    "fig, ax = plt.subplots()\n",
    "\n",
    "ax.plot(z, norm.logcdf(z), label=\"Actual\");\n",
    "ax.plot(z[2:], cum_logΦ_approx, label=\"Approximate\");\n",
    "\n",
    "ax.set_xlabel(\"$z$\");\n",
    "ax.set_ylabel(r\"$\\log \\Phi(z)$\");\n",
    "ax.legend();"
   ]
  },
  {
   "cell_type": "markdown",
   "id": "cd5934ef-e3a9-4b07-b769-0e4007da5c70",
   "metadata": {
    "editable": true,
    "slideshow": {
     "slide_type": ""
    },
    "tags": []
   },
   "source": [
    "This post is available as a Jupyter notebook [here](https://nbviewer.org/gist/0533a976998426f9d73b69ae4bf9e51a)."
   ]
  },
  {
   "cell_type": "code",
   "execution_count": 13,
   "id": "6c047641-625e-492f-a470-9c34d79fcd45",
   "metadata": {
    "editable": true,
    "slideshow": {
     "slide_type": ""
    },
    "tags": []
   },
   "outputs": [
    {
     "name": "stdout",
     "output_type": "stream",
     "text": [
      "Last updated: Fri Jun 06 2025\n",
      "\n",
      "Python implementation: CPython\n",
      "Python version       : 3.12.5\n",
      "IPython version      : 8.29.0\n",
      "\n",
      "scipy     : 1.14.1\n",
      "seaborn   : 0.13.2\n",
      "numpy     : 1.26.4\n",
      "matplotlib: 3.9.2\n",
      "\n"
     ]
    }
   ],
   "source": [
    "%load_ext watermark\n",
    "%watermark -n -u -v -iv"
   ]
  }
 ],
 "metadata": {
  "kernelspec": {
   "display_name": "Python 3 (ipykernel)",
   "language": "python",
   "name": "python3"
  },
  "language_info": {
   "codemirror_mode": {
    "name": "ipython",
    "version": 3
   },
   "file_extension": ".py",
   "mimetype": "text/x-python",
   "name": "python",
   "nbconvert_exporter": "python",
   "pygments_lexer": "ipython3",
   "version": "3.12.5"
  },
  "nikola": {
   "date": "2025-06-06",
   "slug": "simpson-log-scale",
   "title": "Simpson's Rule on the Logarithmic Scale"
  }
 },
 "nbformat": 4,
 "nbformat_minor": 5
}
