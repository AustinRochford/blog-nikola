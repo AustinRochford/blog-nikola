{
 "cells": [
  {
   "cell_type": "markdown",
   "id": "389cf913-face-4458-b996-72d66b90cbb3",
   "metadata": {},
   "source": [
    "**Author's Note (2022-09-05):** *As of the official release of [PyMC version 4.0](https://www.pymc.io/blog/v4_announcement.html), the current stable version of PyMC now supports multivariate distributions.  Inference using these is generally much more efficient than any of the workaround parameterizations presented in this post.  For those still itnerested in a closed-form solution for the Cholesky decomposition this post computes using SymPy, consult [this subsequent post](https://austinrochford.com/posts/exch-chol-closed.html)*\n",
    "\n",
    "For an upcoming analysis of the fighting skills of hockey players, I've fallen down a rabbit hole comparing several different parametrizations for estimating the covariance parameter of latent [exchangeable normal random variables](https://en.wikipedia.org/wiki/Exchangeable_random_variables) using [PyMC](https://docs.pymc.io/en/stable/).  After working out which parameterization was most efficient for my model, I've decided that this derivation is interesting enough to merit its own post.\n",
    "\n",
"<center>\n",
    "<table>\n",
    "    <tr>\n",
    "        <td><img alt=\"Alice falling down a rabbit hole\" src=\"https://c.tenor.com/E14SgWRxUoMAAAAC/alice-rabbithole.gif\"></td>\n",
    "        <td><img alt=\"Bivariate normal distribution\" src=\"https://upload.wikimedia.org/wikipedia/commons/5/57/Multivariate_Gaussian.png\" width=350></td>\n",
    "        <td><img alt=\"Philadelphia Flyers goalie punching Washington Capitals goalie\" src=\"http://www.trbimg.com/img-5b93e92c/turbine/ct-xpm-2013-11-01-chi-emery-starts-goalie-fight-in-flyers-loss-20131101\" width=350></td>\n",
    "    </tr>\n",
    "    <tr>\n",
    "        <td colspan=3><center>Alice in Wonderland, statistics, and hockey: three of my favorite things</center></td>\n",
    "    </tr>\n",
    "</table>\n",
    "</center>"
   ]
  },
  {
   "cell_type": "markdown",
   "id": "9c502bc2-0ad0-4a6b-8ef1-bd3c8e5f28f6",
   "metadata": {},
   "source": [
    "## Exchangeable random variables\n",
    "\n",
    "Recall that a sequence of random variables $X_1, \\ldots, X_T$ is [exchangeable](https://en.wikipedia.org/wiki/Exchangeable_random_variables) if its joint distribution is invariant under permutations of the indicues.  More concretely, this sequence is exchangeable if for every permutation of the indices (a bijective function $\\tau: \\{1, \\ldots T\\} \\to \\{1, \\ldots T\\}$), $X_1, \\ldots, X_T$ and $X_{\\tau(1)}, \\ldots, X_{\\tau(T)}$ have the same joint distribution.\n",
    "\n",
    "Exchangeabile variables arise in many situations, and most importantly for our situation, lead to interesting covariance/correlation structures.  It is evident from the definition that exchangeable random variables must have the same mean and variance, so we define $\\mu = \\mathbb{E}(X_t)$ and $\\sigma^2 = \\mathbb{Var}(X_t)$.  It is also evident that each pair has the same covariance, so we define the Pearson correlation coefficient\n",
    "\n",
    "$$\\rho = \\frac{\\mathbb{Cov}(X_s, X_t)}{\\sigma^2}.$$\n",
    "\n",
    "This post will focus on the sampling performance for estimating the posterior distribution of $\\rho$ using various mathematically equivalent parameterizations.\n",
    "\n",
    "Exchangeability imposes a restriction on how anticorrelated these random variables can be, as the following calculation shows.  We know that variance must be nonnegative, so by the [bilinearity of covariance](https://en.wikipedia.org/wiki/Covariance#Covariance_of_linear_combinations)\n",
    "\n",
    "$$\n",
    "\\begin{align}\n",
    "    0\n",
    "        & \\leq \\mathbb{Var}\\left(\\sum_{t = 1}^T X_i\\right) \\\\\n",
    "        & = \\sum_{t = 1}^T \\mathbb{Var}(X_i) + 2 \\sum_{t = 1}^T \\sum_{s = 1}^t \\mathbb{Cov}(X_s, X_t) \\\\\n",
    "        & = T \\sigma^2 + T (T - 1) \\rho \\sigma^2 \\\\\n",
    "        & = (1 + (T - 1) \\rho) \\cdot T \\sigma^2.\n",
    "\\end{align}\n",
    "$$\n",
    "\n",
    "Since $T \\sigma^2 \\geq 0$ by definition, we must have\n",
    "\n",
    "$$1 + (T - 1) \\rho \\geq 0.$$\n",
    "\n",
    "Solving this inequality gives\n",
    "\n",
    "$$\\rho \\geq -\\frac{1}{T - 1},$$\n",
    "\n",
    "so exchangeable random variables cannot be too anticorrelated, and how anticorrelated they can be depends on the length of the sequence.  In the limit $T \\to \\infty$, we see that an infinite sequence of exchangeable random variables must have nonnegative Pearson correlation.\n",
    "\n",
    "This constraint on the range of possible Pearson correlations for an exchangeable sequence is of particular interest for my hockey application as I want to examine the evidence that the latent fighting \"skill\" of players is uncorrelated across seasons.  (The word \"skill\" appears in quotes here because if there is no season-over-season correlation, we are probably not modeling a true latent skill.)\n",
    "\n",
    "We will keep this constraint in mind as we explore the sampling efficiency of various parametrizations of latent exchangeable normal random variables in the following sections."
   ]
  },
  {
   "cell_type": "markdown",
   "id": "5d101733-d033-497d-bd6a-da13ed20bc3b",
   "metadata": {},
   "source": [
    "## Generating the data\n",
    "\n",
    "For benchmarking purposes, we will simulate data sets drawn from a population based on latent normal parameters that are exchangeable.  In order to focus on estimating the Pearson correlation, $\\rho$, we will assume all random variables have unit scale, $\\sigma = 1$.  These calculations extend easily to the case of an abritrary scale.\n",
    "\n",
    "First we make the necessary Python imports and do some light housekeeping."
   ]
  },
  {
   "cell_type": "code",
   "execution_count": 1,
   "id": "b537677d-3058-4bff-905e-c76662863c1c",
   "metadata": {},
   "outputs": [],
   "source": [
    "from contextlib import contextmanager\n",
    "from enum import Enum\n",
    "from fastprogress.fastprogress import progress_bar\n",
    "import json\n",
    "import logging\n",
    "from pathlib import Path\n",
    "from toolz import compose, valmap"
   ]
  },
  {
   "cell_type": "code",
   "execution_count": 2,
   "id": "1c7f8555-de8f-4ca4-bebc-3a1286f3b2ce",
   "metadata": {},
   "outputs": [
    {
     "name": "stderr",
     "output_type": "stream",
     "text": [
      "You are running the v4 development version of PyMC which currently still lacks key features. You probably want to use the stable v3 instead which you can either install via conda or find on the v3 GitHub branch: https://github.com/pymc-devs/pymc/tree/v3\n"
     ]
    }
   ],
   "source": [
    "from aesara import tensor as at\n",
    "import arviz as az\n",
    "import matplotlib as mpl\n",
    "from matplotlib import pyplot as plt\n",
    "import numpy as np\n",
    "import pandas as pd\n",
    "import pymc as pm\n",
    "import seaborn as sns\n",
    "import sympy as sym"
   ]
  },
  {
   "cell_type": "code",
   "execution_count": 3,
   "id": "bc8c6f18-c0b8-479a-9f28-7917f7b3b891",
   "metadata": {},
   "outputs": [],
   "source": [
    "FIG_WIDTH = 8\n",
    "FIG_HEIGHT = 6\n",
    "mpl.rcParams['figure.figsize'] = (FIG_WIDTH, FIG_HEIGHT)\n",
    "\n",
    "sns.set(color_codes=True)"
   ]
  },
  {
   "cell_type": "markdown",
   "id": "636c4acd-96e6-472f-acec-b9408723496c",
   "metadata": {},
   "source": [
    "For the purposes of these simulations we will set $T = 4$, small enough so we can visualize covariance matrices using [SymPy](https://www.sympy.org/en/index.html), but large enough that I don't want to do the necessary calcuations by hand."
   ]
  },
  {
   "cell_type": "code",
   "execution_count": 4,
   "id": "f8fe0454-a8cd-4328-bcfc-f58e4ca4e7fc",
   "metadata": {},
   "outputs": [],
   "source": [
    "T = 4"
   ]
  },
  {
   "cell_type": "markdown",
   "id": "99d465f8-ba98-43e1-91e3-5cbfeeb449eb",
   "metadata": {},
   "source": [
    "We generate $K = 100$ random latent $T$-vectors from an exchangeable normal distribution with mean zero, unit scale, and Pearson correlation $\\rho$, so the covariance matrix is\n",
    "\n",
    "$$\n",
    "\\Sigma_{\\rho}\n",
    "    = \\begin{pmatrix}\n",
    "        1 & \\rho & \\cdots & \\rho & \\rho \\\\\n",
    "        \\rho & 1 & \\cdots & \\rho & \\rho \\\\\n",
    "        \\rho & \\rho & \\cdots & 1 & \\rho \\\\\n",
    "        \\rho & \\rho & \\cdots & \\rho & 1\n",
    "    \\end{pmatrix} \\in \\mathbb{R}^{T \\times T}\n",
    "$$\n",
    "\n",
    "and $\\mathbf{\\mu}_1, \\ldots, \\mathbf{\\mu}_K \\sim N\\left(0, \\Sigma_{\\rho}\\right)$.  For the moment we will use $\\rho = 0.5$."
   ]
  },
  {
   "cell_type": "code",
   "execution_count": 5,
   "id": "0e76a91d-6939-4d84-9371-cc9ead85a08a",
   "metadata": {},
   "outputs": [],
   "source": [
    "RHO = 0.5\n",
    "K = 100"
   ]
  },
  {
   "cell_type": "code",
   "execution_count": 6,
   "id": "06c45c84-cf38-4073-ad2e-bd3d03c7f3d5",
   "metadata": {},
   "outputs": [],
   "source": [
    "SEED = 123456789\n",
    "\n",
    "rng = np.random.default_rng(SEED)"
   ]
  },
  {
   "cell_type": "code",
   "execution_count": 7,
   "id": "3be2550b-f528-4179-9494-9de8e93f16d3",
   "metadata": {},
   "outputs": [],
   "source": [
    "Sigma_rho = np.eye(T) + RHO * (1 - np.eye(T))\n",
    "mu = rng.multivariate_normal(np.zeros(T), Sigma_rho, size=K)"
   ]
  },
  {
   "cell_type": "markdown",
   "id": "12fc15e5-68e8-45ed-8834-5f95d4da7252",
   "metadata": {},
   "source": [
    "We see that these samples have the desired covariance structure (allowing for sampling noise on the order of $\\frac{1}{\\sqrt{K}} = 0.1$)."
   ]
  },
  {
   "cell_type": "code",
   "execution_count": 8,
   "id": "892b5832-b663-4b87-9ef7-320f6b58115b",
   "metadata": {},
   "outputs": [
    {
     "data": {
      "text/plain": [
       "array([[1.        , 0.43203461, 0.42611009, 0.52428711],\n",
       "       [0.43203461, 1.        , 0.49784241, 0.52027976],\n",
       "       [0.42611009, 0.49784241, 1.        , 0.48151274],\n",
       "       [0.52428711, 0.52027976, 0.48151274, 1.        ]])"
      ]
     },
     "execution_count": 8,
     "metadata": {},
     "output_type": "execute_result"
    }
   ],
   "source": [
    "np.corrcoef(mu, rowvar=False)"
   ]
  },
  {
   "cell_type": "markdown",
   "id": "f7a8f634-65e6-4534-859c-f9b394b4af80",
   "metadata": {},
   "source": [
    "We now generate observations. Each of these $\\mathbf{\\mu}_k$ represent the latent mean of a group. We will generate $n_K = 20$ observations for group, $\\mathbf{x}_1, \\ldots, \\mathbf{x}_{K \\cdot n_K} \\in \\mathbb{R}^T$ with distribution $x_i \\sim N\\left(\\mathbf{\\mu}_{k(i)}, \\mathbb{I}_T\\right)$ where $k(i) = \\left\\lfloor \\frac{i}{n_K} \\right\\rfloor$ is the group of the $i$-th observation and $\\mathbb{I}_T$ is the T-dimensional identity matrix."
   ]
  },
  {
   "cell_type": "code",
   "execution_count": 9,
   "id": "8f0af28a-4474-4990-b0c5-dfecae063629",
   "metadata": {},
   "outputs": [],
   "source": [
    "n_K = 20\n",
    "k_i = np.arange(K * n_K) // n_K"
   ]
  },
  {
   "cell_type": "code",
   "execution_count": 10,
   "id": "79106f10-d60f-4d89-94b9-adbb8eb308d6",
   "metadata": {},
   "outputs": [],
   "source": [
    "x = mu[k_i] + rng.normal(size=(K * n_K, T))"
   ]
  },
  {
   "cell_type": "markdown",
   "id": "3dc7361d-2896-40bb-8936-ff4d3a8f568e",
   "metadata": {},
   "source": [
    "Calculating the covariance of $x_{i, s} = \\mu_{i, s} + \\varepsilon_{i, s}$ and $x_{i, t} = \\mu_{i, t} + \\varepsilon_{i, t}$, with $\\varepsilon_{i, t} \\sim N(0, 1)$ i.i.d as above, we get\n",
    "\n",
    "$$\n",
    "\\begin{align}\n",
    "    \\mathbb{Cov}(x_{i, s}, x_{i, t})\n",
    "        & = \\mathbb{Cov}(\\mu_{i, s} + \\varepsilon_{i, s}, \\mu_{i, t} + \\varepsilon_{i, t}) \\\\\n",
    "        & = \\mathbb{Cov}(\\mu_{i, s}, \\mu_{i, t}) + \\mathbb{Cov}(\\varepsilon_{i, s}, \\varepsilon_{i, t}) \\\\\n",
    "        & = \\begin{cases}\n",
    "            \\sigma^2 + 1  & \\text{if } s = t \\\\\n",
    "            \\rho \\sigma^2 & \\text{if } s \\neq t\n",
    "        \\end{cases} \\\\\n",
    "        & = \\begin{cases}\n",
    "            2  & \\text{if } s = t \\\\\n",
    "            0.5 & \\text{if } s \\neq t\n",
    "        \\end{cases}.\n",
    "\\end{align}\n",
    "$$\n",
    "\n",
    "Therefore we get a Pearson correlation of\n",
    "\n",
    "$$\n",
    "\\begin{align}\n",
    "    \\mathbb{Corr}(x_{i, s}, x_{i, t})\n",
    "        & = \\frac{\\mathbb{Cov}(x_{i, s}, x_{i, t})}{\\sqrt{\\mathbb{Cov}(x_{i, s}, x_{i, s})} \\cdot \\sqrt{\\mathbb{Cov}(x_{i, t}, x_{i, t})}} \\\\\n",
    "        & = \\frac{0.5}{\\sqrt{2} \\cdot \\sqrt{2}} \\\\\n",
    "        & = 0.25\n",
    "\\end{align}\n",
    "$$\n",
    "\n",
    "for $s \\neq t$.\n",
    "\n",
    "This correlation is borne out in our simulated data."
   ]
  },
  {
   "cell_type": "code",
   "execution_count": 11,
   "id": "f7361ad9-2663-4e92-b1c2-62abb34e946d",
   "metadata": {},
   "outputs": [
    {
     "data": {
      "text/plain": [
       "array([[1.        , 0.2343107 , 0.19670175, 0.24605147],\n",
       "       [0.2343107 , 1.        , 0.22697497, 0.23203603],\n",
       "       [0.19670175, 0.22697497, 1.        , 0.24862999],\n",
       "       [0.24605147, 0.23203603, 0.24862999, 1.        ]])"
      ]
     },
     "execution_count": 11,
     "metadata": {},
     "output_type": "execute_result"
    }
   ],
   "source": [
    "np.corrcoef(x, rowvar=False)"
   ]
  },
  {
   "cell_type": "markdown",
   "id": "72fe97b0-e91f-4df9-9263-ad9ba1f61278",
   "metadata": {},
   "source": [
    "In order to study the sampling performance of different parametrizations for a variety of values of $\\rho$, the following function that generates data as above given $\\rho$ will be useful."
   ]
  },
  {
   "cell_type": "code",
   "execution_count": 12,
   "id": "cfac7d46-5176-44d1-8c95-c77d4a27aa06",
   "metadata": {},
   "outputs": [],
   "source": [
    "def generate_data(rho, rng=None):\n",
    "    if rng is None:\n",
    "        rng = np.random.default_rng()\n",
    "    \n",
    "    Sigma_rho = np.eye(T) + rho * (1 - np.eye(T))\n",
    "    mu = rng.multivariate_normal(np.zeros(T), Sigma_rho, size=K)\n",
    "    \n",
    "    return mu[k_i] + rng.normal(size=(K * n_K, T))"
   ]
  },
  {
   "cell_type": "markdown",
   "id": "21a65e67-3ab3-4c2e-8526-8e0f4df9e721",
   "metadata": {},
   "source": [
    "## Parametrizations for inference with exchangeble multivarial normal random variables\n",
    "\n",
    "For the rest of this post we will focus exclusively on the \n",
    " \n",
    "When we imported `pymc` we got the following warning:\n",
    "\n",
    "> `You are running the v4 development version of PyMC which currently still lacks key features. You probably want to use the stable v3 instead which you can either install via conda or find on the v3 GitHub branch: https://github.com/pymc-devs/pymc/tree/v3`\n",
    "\n",
    "One of the key features the development version of PyMC v4 lacks as of the commit that was installed in the Docker container I am composing this post on,"
   ]
  },
  {
   "cell_type": "code",
   "execution_count": 13,
   "id": "0a9e0f8b-6083-49ca-a40a-ed4fc3de9da1",
   "metadata": {},
   "outputs": [
    {
     "name": "stdout",
     "output_type": "stream",
     "text": [
      "598dd9de2b818a58480071720a9f3da63177be89\n"
     ]
    }
   ],
   "source": [
    "try:\n",
    "    pm_path = Path(pm.__path__[0])\n",
    "    dist_info_path, = pm_path.parent.glob(\"pymc-*.dist-info\")\n",
    "\n",
    "    with open(dist_info_path / \"direct_url.json\", 'r') as src:\n",
    "        direct_url_data = json.load(src)\n",
    "\n",
    "    print(direct_url_data[\"vcs_info\"][\"commit_id\"])\n",
    "except:\n",
    "    print(\"Nothing to see here\")"
   ]
  },
  {
   "cell_type": "markdown",
   "id": "0c670757-138f-4bad-bfc7-0ceb3768c840",
   "metadata": {},
   "source": [
    "is a working multivariate normal implementation.  This lack is not a true problem as we can quickly implement a workaround sufficient for our situation that will be roughly in line with the eventual PyMC v4 implementation.\n",
    "\n",
    "### The Cholesky decomposition\n",
    "\n",
    "Recall that if $\\mathbf{\\mu} \\in \\mathbb{R}^T$ and $\\Sigma \\in \\mathbb{R}^{T \\times T}$ is a [positive definite](https://en.wikipedia.org/wiki/Positive-definite_matrix) covariance matrix and $\\mathbf{x} \\sim N(\\mathbf{\\mu}, \\Sigma)$ then the density of $\\mathbf{x}$ is\n",
    "\n",
    "$$\n",
    "f\\left(\\mathbf{x}\\ | \\mathbf{\\mu}, \\Sigma\\right)\n",
    "    = (2 \\pi)^{-\\frac{T}{2}} \\cdot \\left|\\Sigma\\right|^{-\\frac{1}{2}} \\cdot \\exp \\left(-\\frac{(\\mathbf{x} - \\mathbf{\\mu})^{\\top} \\Sigma^{-1}(\\mathbf{x} - \\mathbf{\\mu})}{2}\\right).\n",
    "$$\n",
    "\n",
    "The [quadratic form](https://en.wikipedia.org/wiki/Quadratic_form) $(\\mathbf{x} - \\mathbf{\\mu})^{\\top} \\Sigma^{-1}(\\mathbf{x} - \\mathbf{\\mu})$ is suggestive.  If we can decompose the covariance matrix $\\Sigma = L L^{\\top}$ where $L$ is sufficiently nice, we can rewrite the quadratic form as\n",
    "\n",
    "$$\n",
    "(\\mathbf{x} - \\mathbf{\\mu})^{\\top} \\Sigma^{-1}(\\mathbf{x} - \\mathbf{\\mu})\n",
    "    = (L^{-1} (\\mathbf{x} - \\mathbf{\\mu}))^{\\top} (L^{-1} (\\mathbf{x} - \\mathbf{\\mu})).\n",
    "$$\n",
    "\n",
    "If, in particular, $L$ is lower diagonal, it is relatively easy to solve the linear system $L \\mathbf{z} = \\mathbf{x} - \\mathbf{\\mu}$ using [back subtitution](https://en.wikipedia.org/wiki/Triangular_matrix#Forward_and_back_substitution).  The determinant in the density is also easy to calculate because $|\\Sigma|^{-\\frac{1}{2}} = |L|^{-1}$, and the determinant of a triangular matrix is just the product of its diagonal entries.  Fortunately such a decomposition, the [Cholesky decomposition](https://en.wikipedia.org/wiki/Cholesky_decomposition), is well-known and has been extensively studied.  Together with the Cholesky decomposition, the following fact gives an easy way to generate samples from a multivariate normal distribution with arbitrary covariance matrix.\n",
    "\n",
    "**Theorem** Let $\\mathbf{z} \\in \\mathbb{R}^n$ have components drawn from a standard normal distribution, $z_1, \\ldots z_n \\overset{\\text{i.i.d.}}{\\sim} N(0, 1)$.  Let $A \\in \\mathbb{R}^{m \\times n}$.  Then $A \\mathbf{z} \\in \\mathbb{R}^m$ has distribution $A \\mathbf{z} \\sim N(0, A^{\\top}A)$.\n",
    "\n",
    "Therefore if we want to generate samples from an $N(0, \\Sigma)$ distribution, we can calculate the Cholesky decomposition of the covariance matrix, $\\Sigma = L L^{\\top}$, generate samples $\\mathbf{z}_i \\sim N(0, \\mathbb{I})$ and multiply to get $L \\mathbf{z}_i \\sim N(0, \\Sigma)$.\n",
    "\n",
    "This post will compare two ways of calculating the Cholesky factorization of $\\Sigma$ in the case that the normal random variables are exchangeable with a third parametrization for cases where $\\rho \\geq 0$ through the lens of sampling efficiency using Hamiltonian Monte Carlo sampling implemented in PyMC."
   ]
  },
  {
   "cell_type": "markdown",
   "id": "de202f46-40d6-457f-9c85-acf9e55f8c8f",
   "metadata": {},
   "source": [
    "### General Cholesky decomposition\n",
    "\n",
    "PyMC uses [Aesara](https://aesara.readthedocs.io/en/latest/index.html) as its underlying tensor computation/differentiation engine.  Conveniently, Aesara implements a cholesky decomposition that PyMC then wraps in the function `pm.distributions.multivariate.cholesky` that can be applied to matrices of random variables.\n",
    "\n",
    "We begin with a uniform prior on our correlation coefficient in the permissible range $-\\frac{1}{T - 1} \\leq \\rho < 1$."
   ]
  },
  {
   "cell_type": "code",
   "execution_count": 14,
   "id": "e563901e-ee94-4419-8e5f-38c75bb6e3e2",
   "metadata": {},
   "outputs": [],
   "source": [
    "with pm.Model(rng_seeder=SEED) as gen_model:\n",
    "    ρ = pm.Uniform(\"ρ\", -1. / (T - 1), 1.)"
   ]
  },
  {
   "cell_type": "markdown",
   "id": "1c2ad4fa-a060-4f2d-a754-3d9a1390c725",
   "metadata": {},
   "source": [
    "We then build the associated covariance matrix\n",
    "\n",
    "$$\n",
    "\\Sigma_{\\rho}\n",
    "    = \\begin{pmatrix}\n",
    "        1 & \\rho & \\cdots & \\rho & \\rho \\\\\n",
    "        \\rho & 1 & \\cdots & \\rho & \\rho \\\\\n",
    "        \\rho & \\rho & \\cdots & 1 & \\rho \\\\\n",
    "        \\rho & \\rho & \\cdots & \\rho & 1\n",
    "    \\end{pmatrix} \\in \\mathbb{R}^{T \\times T}\n",
    "$$\n",
    "\n",
    "and compute its Cholesky decomposition."
   ]
  },
  {
   "cell_type": "code",
   "execution_count": 15,
   "id": "68e3c292-31f2-4a0e-aa95-d0e57b206d00",
   "metadata": {},
   "outputs": [],
   "source": [
    "def get_corr_mat(rho, n):\n",
    "    return np.eye(n) + rho * (1 - np.eye(n))"
   ]
  },
  {
   "cell_type": "code",
   "execution_count": 16,
   "id": "deb144fa-3a7b-45db-8835-91c339e346e1",
   "metadata": {},
   "outputs": [],
   "source": [
    "with gen_model:\n",
    "    Σ_ρ = get_corr_mat(ρ, T)\n",
    "    L = pm.distributions.multivariate.cholesky(Σ_ρ)"
   ]
  },
  {
   "cell_type": "markdown",
   "id": "4b7f3e4d-f49c-4ee2-86fd-31e6d012f959",
   "metadata": {},
   "source": [
    "Following the plan laid out in the theorem above, we then sample $\\mathbf{z}_1, \\ldots, \\mathbf{z}_K \\in \\mathbb{R}^T$ having standard normally distributed entries, and transform them to to $\\mathbf{\\mu}_k = L \\mathbf{z}_k \\sim N\\left(0, \\Sigma_{\\rho}\\right)$."
   ]
  },
  {
   "cell_type": "code",
   "execution_count": 17,
   "id": "4a644f69-5d13-4734-bdd9-ecc32ecb4a6a",
   "metadata": {},
   "outputs": [],
   "source": [
    "with gen_model:\n",
    "    z = pm.Normal(\"z\", 0., 1., shape=(K, T))\n",
    "    μ = z.dot(L.T)"
   ]
  },
  {
   "cell_type": "markdown",
   "id": "1ccfad77-8c27-4bf5-84d9-59e26efa64e8",
   "metadata": {},
   "source": [
    "Finally we specify the likelihood of the observed data."
   ]
  },
  {
   "cell_type": "code",
   "execution_count": 18,
   "id": "5f24b11f-0a1b-4374-ae83-a021a83be0c0",
   "metadata": {},
   "outputs": [],
   "source": [
    "with gen_model:\n",
    "    pm.Normal(\"obs\", μ[k_i], 1., observed=pm.Data(\"x\", x))"
   ]
  },
  {
   "cell_type": "markdown",
   "id": "1d315caf-e2f0-4e07-a5c1-338151476943",
   "metadata": {},
   "source": [
    "We now sample from the model's posterior distribution."
   ]
  },
  {
   "cell_type": "code",
   "execution_count": 19,
   "id": "751ea5cf-16de-4a28-923b-e2eb9348876d",
   "metadata": {},
   "outputs": [],
   "source": [
    "CORES = 3\n",
    "\n",
    "SAMPLE_KWARGS = {\n",
    "    'cores': CORES,\n",
    "    'random_seed': [SEED + i for i in range(CORES)]\n",
    "}"
   ]
  },
  {
   "cell_type": "code",
   "execution_count": 20,
   "id": "b0985d3b-fe62-4cdd-ac57-befd2a747cfd",
   "metadata": {},
   "outputs": [
    {
     "name": "stderr",
     "output_type": "stream",
     "text": [
      "Auto-assigning NUTS sampler...\n",
      "Initializing NUTS using jitter+adapt_diag...\n",
      "Multiprocess sampling (3 chains in 3 jobs)\n",
      "NUTS: [ρ, z]\n"
     ]
    },
    {
     "data": {
      "text/html": [
       "\n",
       "    <div>\n",
       "        <style>\n",
       "            /* Turns off some styling */\n",
       "            progress {\n",
       "                /* gets rid of default border in Firefox and Opera. */\n",
       "                border: none;\n",
       "                /* Needs to be in here for Safari polyfill so background images work as expected. */\n",
       "                background-size: auto;\n",
       "            }\n",
       "            .progress-bar-interrupted, .progress-bar-interrupted::-webkit-progress-bar {\n",
       "                background: #F44336;\n",
       "            }\n",
       "        </style>\n",
       "      <progress value='6000' class='' max='6000' style='width:300px; height:20px; vertical-align: middle;'></progress>\n",
       "      100.00% [6000/6000 04:03<00:00 Sampling 3 chains, 0 divergences]\n",
       "    </div>\n",
       "    "
      ],
      "text/plain": [
       "<IPython.core.display.HTML object>"
      ]
     },
     "metadata": {},
     "output_type": "display_data"
    },
    {
     "name": "stderr",
     "output_type": "stream",
     "text": [
      "Sampling 3 chains for 1_000 tune and 1_000 draw iterations (3_000 + 3_000 draws total) took 245 seconds.\n",
      "The number of effective samples is smaller than 25% for some parameters.\n"
     ]
    }
   ],
   "source": [
    "with gen_model:\n",
    "    gen_trace = pm.sample(**SAMPLE_KWARGS)"
   ]
  },
  {
   "cell_type": "markdown",
   "id": "6da3adc4-f9be-44da-8969-54e4d7a87c08",
   "metadata": {},
   "source": [
    "Note the warning about small effective sample size.  Effective samples per second will be the key quantity to consider when we benchmark our parametrizations against each other.\n",
    "\n",
    "Plotting the posterior distribution of $\\rho$, we see that the true value of 0.5 is comfortably inside the high posterior density interval."
   ]
  },
  {
   "cell_type": "code",
   "execution_count": 21,
   "id": "7fc954b2-12d9-4db2-95a9-1799017a6ae0",
   "metadata": {},
   "outputs": [
    {
     "data": {
      "image/png": "[encoded data removed]",
      "text/plain": [
       "<Figure size 576x432 with 1 Axes>"
      ]
     },
     "metadata": {},
     "output_type": "display_data"
    }
   ],
   "source": [
    "az.plot_posterior(gen_trace, var_names=\"ρ\", ref_val=0.5);"
   ]
  },
  {
   "cell_type": "markdown",
   "id": "6186d118-1b12-4fe2-9438-5a8d3774e1f3",
   "metadata": {},
   "source": [
    "### Cholesky decomposition for excheangeable normal random variables\n",
    "\n",
    "One advantage of the previous parametrization is its generality; nowhere did we rely on the fact that the random variables were exchangeable.  While pursuing my hockey fight research, I was curious if we can improve upon the sampling performance by taking advantage of the fact that exchangeable normal random variables lead to the highly structured covariance matrix\n",
    "\n",
    "$$\n",
    "\\begin{align}\n",
    "    \\Sigma_{\\rho} = \\begin{pmatrix}\n",
    "        1 & \\rho & \\cdots & \\rho & \\rho \\\\\n",
    "        \\rho & 1 & \\cdots & \\rho & \\rho \\\\\n",
    "        \\rho & \\rho & \\cdots & 1 & \\rho \\\\\n",
    "        \\rho & \\rho & \\cdots & \\rho & 1\n",
    "    \\end{pmatrix}.\n",
    "\\end{align}\n",
    "$$\n",
    "\n",
    "Therefore the question is, can we exploit this structure to come up with a simple (enough) closed form expression to facilitate faster sampling?  The answer was not obvious to me, but I was hopeful.  Prior to considering this question I had never calculated a Cholesky decomposition by hand, and I still have not.  To avoid the tedious work of manual calculations, we can lean on [SymPy](https://www.sympy.org/en/index.html).\n",
    "\n",
    "Below we generate a matrix the $T \\times T$ covariance matrix for our situation (exchangeable normal random variables with unit scale and $T = 4$)."
   ]
  },
  {
   "cell_type": "code",
   "execution_count": 22,
   "id": "34cb0988-6a02-4716-a794-1eea48d5a500",
   "metadata": {},
   "outputs": [],
   "source": [
    "def get_corr_mat_sympy(rho, n):\n",
    "    return sym.eye(n) + rho * (sym.ones(n, n) - sym.eye(n))"
   ]
  },
  {
   "cell_type": "code",
   "execution_count": 23,
   "id": "a1c84b5f-3e86-4365-824f-6816f42e50e7",
   "metadata": {},
   "outputs": [],
   "source": [
    "rho = sym.var(r\"\\rho\")"
   ]
  },
  {
   "cell_type": "code",
   "execution_count": 24,
   "id": "9da203b6-0893-4ab7-8cdf-ba66b48b8740",
   "metadata": {},
   "outputs": [],
   "source": [
    "Sigma_rho_sym = get_corr_mat_sympy(rho, T)"
   ]
  },
  {
   "cell_type": "code",
   "execution_count": 25,
   "id": "5af9bd1b-c9e9-42fc-91ef-0d09c156d361",
   "metadata": {},
   "outputs": [
    {
     "data": {
      "text/latex": [
       "$\\displaystyle \\left[\\begin{matrix}1 & \\rho & \\rho & \\rho\\\\\\rho & 1 & \\rho & \\rho\\\\\\rho & \\rho & 1 & \\rho\\\\\\rho & \\rho & \\rho & 1\\end{matrix}\\right]$"
      ],
      "text/plain": [
       "Matrix([\n",
       "[   1, \\rho, \\rho, \\rho],\n",
       "[\\rho,    1, \\rho, \\rho],\n",
       "[\\rho, \\rho,    1, \\rho],\n",
       "[\\rho, \\rho, \\rho,    1]])"
      ]
     },
     "execution_count": 25,
     "metadata": {},
     "output_type": "execute_result"
    }
   ],
   "source": [
    "Sigma_rho_sym"
   ]
  },
  {
   "cell_type": "markdown",
   "id": "3e40b056-ab8b-4a45-80d7-0410cb20487a",
   "metadata": {},
   "source": [
    "We can ask SymPy for this matrix's Cholesky decomposition and try to spot useful patterns."
   ]
  },
  {
   "cell_type": "code",
   "execution_count": 26,
   "id": "582a3a7f-7a57-45af-ae3b-14cdbb851f37",
   "metadata": {},
   "outputs": [],
   "source": [
    "L_sym = Sigma_rho_sym.cholesky(hermitian=False)"
   ]
  },
  {
   "cell_type": "code",
   "execution_count": 27,
   "id": "191ce6b1-0bae-4dc1-b165-4f66fdbe098e",
   "metadata": {},
   "outputs": [
    {
     "data": {
      "text/latex": [
       "$\\displaystyle \\left[\\begin{matrix}1 & 0 & 0 & 0\\\\\\rho & \\sqrt{1 - \\rho^{2}} & 0 & 0\\\\\\rho & \\frac{- \\rho^{2} + \\rho}{\\sqrt{1 - \\rho^{2}}} & \\sqrt{- \\rho^{2} + 1 - \\frac{\\left(- \\rho^{2} + \\rho\\right)^{2}}{1 - \\rho^{2}}} & 0\\\\\\rho & \\frac{- \\rho^{2} + \\rho}{\\sqrt{1 - \\rho^{2}}} & \\frac{- \\rho^{2} + \\rho - \\frac{\\left(- \\rho^{2} + \\rho\\right)^{2}}{1 - \\rho^{2}}}{\\sqrt{- \\rho^{2} + 1 - \\frac{\\left(- \\rho^{2} + \\rho\\right)^{2}}{1 - \\rho^{2}}}} & \\sqrt{- \\rho^{2} + 1 - \\frac{\\left(- \\rho^{2} + \\rho - \\frac{\\left(- \\rho^{2} + \\rho\\right)^{2}}{1 - \\rho^{2}}\\right)^{2}}{- \\rho^{2} + 1 - \\frac{\\left(- \\rho^{2} + \\rho\\right)^{2}}{1 - \\rho^{2}}} - \\frac{\\left(- \\rho^{2} + \\rho\\right)^{2}}{1 - \\rho^{2}}}\\end{matrix}\\right]$"
      ],
      "text/plain": [
       "Matrix([\n",
       "[   1,                                   0,                                                                                                              0,                                                                                                                                                                       0],\n",
       "[\\rho,                   sqrt(1 - \\rho**2),                                                                                                              0,                                                                                                                                                                       0],\n",
       "[\\rho, (-\\rho**2 + \\rho)/sqrt(1 - \\rho**2),                                                        sqrt(-\\rho**2 + 1 - (-\\rho**2 + \\rho)**2/(1 - \\rho**2)),                                                                                                                                                                       0],\n",
       "[\\rho, (-\\rho**2 + \\rho)/sqrt(1 - \\rho**2), (-\\rho**2 + \\rho - (-\\rho**2 + \\rho)**2/(1 - \\rho**2))/sqrt(-\\rho**2 + 1 - (-\\rho**2 + \\rho)**2/(1 - \\rho**2)), sqrt(-\\rho**2 + 1 - (-\\rho**2 + \\rho - (-\\rho**2 + \\rho)**2/(1 - \\rho**2))**2/(-\\rho**2 + 1 - (-\\rho**2 + \\rho)**2/(1 - \\rho**2)) - (-\\rho**2 + \\rho)**2/(1 - \\rho**2))]])"
      ]
     },
     "execution_count": 27,
     "metadata": {},
     "output_type": "execute_result"
    }
   ],
   "source": [
    "L_sym"
   ]
  },
  {
   "cell_type": "markdown",
   "id": "b179e961-4b28-4f15-81e5-8df50dc8227f",
   "metadata": {},
   "source": [
    "One thing I notice immediately is that I am glad I did not calculate this by hand.  Another important point to notice is that each column has at most two unique (nonzero) entries:\n",
    "\n",
    "1. the diagonal entry, and\n",
    "2. the entry below the diagonal that is repeated to fill the rest of the column.\n",
    "\n",
    "For a $T \\times T$ covariance matrix, that means that there are only $2 T - 1$ unique entries to calculate, rather than $\\frac{T (T - 1)}{2}$, a significant reduction.  I suspect, but also have not rigorously shown that these values can be calculated in less than the cubic [time required](https://en.wikipedia.org/wiki/Cholesky_decomposition#Computation) for the Cholesky decomposition of an arbitrary positive definite matrix.\n",
    "\n",
    "While there is a pattern here that we could manually implement, we can be lazy and use SymPy's [`lambdify`](https://docs.sympy.org/latest/modules/utilities/lambdify.html#sympy.utilities.lambdify.lambdify) and a small Aesara bookkeeping function to convert the SymPy computational graph for the above decomposition into an Aesara function that can be used in a PyMC model."
   ]
  },
  {
   "cell_type": "code",
   "execution_count": 28,
   "id": "bc5c18fe-a58f-4ee0-a552-949cecf03d18",
   "metadata": {},
   "outputs": [],
   "source": [
    "def to_aesara(mat):\n",
    "    return at.stack(\n",
    "        [at.stack(row, axis=0) for row in mat],\n",
    "        axis=0\n",
    "    )"
   ]
  },
  {
   "cell_type": "code",
   "execution_count": 29,
   "id": "ef165ddf-0a29-4154-a3ee-ff7426f24eb4",
   "metadata": {},
   "outputs": [],
   "source": [
    "exch_chol = compose(to_aesara, sym.lambdify(rho, L_sym))"
   ]
  },
  {
   "cell_type": "markdown",
   "id": "82111d22-c625-42f3-ba77-4d56494eb986",
   "metadata": {},
   "source": [
    "Except for the calculation of the Cholesky decomposition, every aspect of this model is the same as in the previous one."
   ]
  },
  {
   "cell_type": "code",
   "execution_count": 30,
   "id": "bdc21ecf-c5da-4914-a895-be0abe8e065b",
   "metadata": {},
   "outputs": [],
   "source": [
    "with pm.Model(rng_seeder=SEED) as exch_model:\n",
    "    ρ = pm.Uniform(\"ρ\", -1. / (T - 1), 1.)\n",
    "    L = exch_chol(ρ)\n",
    "    \n",
    "    z = pm.Normal(\"z\", 0., 1., shape=(K, T))\n",
    "    μ = z.dot(L.T)\n",
    "    \n",
    "    pm.Normal(\"obs\", μ[k_i], 1., observed=pm.Data(\"x\", x))"
   ]
  },
  {
   "cell_type": "markdown",
   "id": "8acd33ef-d626-45c4-be36-9a6af62e65cc",
   "metadata": {},
   "source": [
    "We now sample from this model's posterior distribution."
   ]
  },
  {
   "cell_type": "code",
   "execution_count": 31,
   "id": "44a52e66-b779-4ec9-8734-44fa0488458d",
   "metadata": {},
   "outputs": [
    {
     "name": "stderr",
     "output_type": "stream",
     "text": [
      "Auto-assigning NUTS sampler...\n",
      "Initializing NUTS using jitter+adapt_diag...\n",
      "Multiprocess sampling (3 chains in 3 jobs)\n",
      "NUTS: [ρ, z]\n"
     ]
    },
    {
     "data": {
      "text/html": [
       "\n",
       "    <div>\n",
       "        <style>\n",
       "            /* Turns off some styling */\n",
       "            progress {\n",
       "                /* gets rid of default border in Firefox and Opera. */\n",
       "                border: none;\n",
       "                /* Needs to be in here for Safari polyfill so background images work as expected. */\n",
       "                background-size: auto;\n",
       "            }\n",
       "            .progress-bar-interrupted, .progress-bar-interrupted::-webkit-progress-bar {\n",
       "                background: #F44336;\n",
       "            }\n",
       "        </style>\n",
       "      <progress value='6000' class='' max='6000' style='width:300px; height:20px; vertical-align: middle;'></progress>\n",
       "      100.00% [6000/6000 00:25<00:00 Sampling 3 chains, 0 divergences]\n",
       "    </div>\n",
       "    "
      ],
      "text/plain": [
       "<IPython.core.display.HTML object>"
      ]
     },
     "metadata": {},
     "output_type": "display_data"
    },
    {
     "name": "stderr",
     "output_type": "stream",
     "text": [
      "Sampling 3 chains for 1_000 tune and 1_000 draw iterations (3_000 + 3_000 draws total) took 26 seconds.\n",
      "The number of effective samples is smaller than 25% for some parameters.\n"
     ]
    }
   ],
   "source": [
    "with exch_model:\n",
    "    exch_trace = pm.sample(**SAMPLE_KWARGS)"
   ]
  },
  {
   "cell_type": "markdown",
   "id": "549dedf2-d055-4693-95ea-bf2eb5bcc303",
   "metadata": {},
   "source": [
    "This model sampled much more quickly than the previous one, but we still see the effective sample size warning.\n",
    "\n",
    "This model has done a very similar job of recovering the true correlation coefficient."
   ]
  },
  {
   "cell_type": "code",
   "execution_count": 32,
   "id": "a17f72da-a4bb-4d0a-a608-3d74b188bd29",
   "metadata": {},
   "outputs": [
    {
     "data": {
      "image/png": "[encoded data removed]",
      "text/plain": [
       "<Figure size 576x432 with 1 Axes>"
      ]
     },
     "metadata": {},
     "output_type": "display_data"
    }
   ],
   "source": [
    "az.plot_posterior(exch_trace, var_names=\"ρ\", ref_val=0.5);"
   ]
  },
  {
   "cell_type": "markdown",
   "id": "e381e109-82d2-44db-9884-425045a561f5",
   "metadata": {},
   "source": [
    "Now that we have two models that produce roughly equivalent estimates, we can compare their sampling efficiency."
   ]
  },
  {
   "cell_type": "code",
   "execution_count": 33,
   "id": "2011f1d1-3f97-4be2-8135-b8bacee81ebd",
   "metadata": {},
   "outputs": [],
   "source": [
    "class ModelType(Enum):\n",
    "    GEN_CHOL = \"General Cholesky\"\n",
    "    EXCH_CHOL = \"Exchangeable Cholesky\"\n",
    "    TWO_STAGE = \"Two-stage\""
   ]
  },
  {
   "cell_type": "code",
   "execution_count": 34,
   "id": "38675eac-1a95-42b2-9942-ed5aa76a9833",
   "metadata": {},
   "outputs": [],
   "source": [
    "half_traces = {\n",
    "    ModelType.GEN_CHOL: gen_trace,\n",
    "    ModelType.EXCH_CHOL: exch_trace\n",
    "}"
   ]
  },
  {
   "cell_type": "code",
   "execution_count": 35,
   "id": "e4590989-8b7c-46c8-82fc-657165a1504d",
   "metadata": {},
   "outputs": [],
   "source": [
    "def get_ess_value(trace):\n",
    "    return (az.ess(trace, var_names=\"ρ\")\n",
    "                   .to_array()\n",
    "                   .values[0])\n",
    "\n",
    "def get_sampling_time(trace):\n",
    "    return (trace.sample_stats\n",
    "                 .attrs\n",
    "                 [\"sampling_time\"])\n",
    "\n",
    "def get_bench_df(traces):\n",
    "    df = pd.DataFrame.from_dict({\n",
    "        \"Effective sample size\": valmap(get_ess_value, traces),\n",
    "        \"Sampling time\": valmap(get_sampling_time, traces)\n",
    "    })\n",
    "    df[\"Effective samples per second\"] = df[\"Effective sample size\"] \\\n",
    "        / df[\"Sampling time\"]\n",
    "    df.index = df.index.map(lambda e: e.value)\n",
    "    \n",
    "    return df"
   ]
  },
  {
   "cell_type": "markdown",
   "id": "4f68c8a1-2fd2-410a-9e53-490cb2266161",
   "metadata": {},
   "source": [
    "Here we have a benchmark comparing the effective sample size, sampling time, and effective samples per second for these two models."
   ]
  },
  {
   "cell_type": "code",
   "execution_count": 36,
   "id": "388c5657-1df2-48e0-a7ee-0c4aefa7025c",
   "metadata": {},
   "outputs": [],
   "source": [
    "half_df = get_bench_df(half_traces)"
   ]
  },
  {
   "cell_type": "code",
   "execution_count": 37,
   "id": "ce1db31e-d127-4b3f-9940-8e113fcd99fa",
   "metadata": {},
   "outputs": [
    {
     "data": {
      "text/html": [
       "<div>\n",
       "<style scoped>\n",
       "    .dataframe tbody tr th:only-of-type {\n",
       "        vertical-align: middle;\n",
       "    }\n",
       "\n",
       "    .dataframe tbody tr th {\n",
       "        vertical-align: top;\n",
       "    }\n",
       "\n",
       "    .dataframe thead th {\n",
       "        text-align: right;\n",
       "    }\n",
       "</style>\n",
       "<table border=\"1\" class=\"dataframe\">\n",
       "  <thead>\n",
       "    <tr style=\"text-align: right;\">\n",
       "      <th></th>\n",
       "      <th>Effective sample size</th>\n",
       "      <th>Sampling time</th>\n",
       "      <th>Effective samples per second</th>\n",
       "    </tr>\n",
       "  </thead>\n",
       "  <tbody>\n",
       "    <tr>\n",
       "      <th>General Cholesky</th>\n",
       "      <td>518.860706</td>\n",
       "      <td>244.747165</td>\n",
       "      <td>2.119987</td>\n",
       "    </tr>\n",
       "    <tr>\n",
       "      <th>Exchangeable Cholesky</th>\n",
       "      <td>530.852329</td>\n",
       "      <td>25.752860</td>\n",
       "      <td>20.613335</td>\n",
       "    </tr>\n",
       "  </tbody>\n",
       "</table>\n",
       "</div>"
      ],
      "text/plain": [
       "                       Effective sample size  Sampling time  \\\n",
       "General Cholesky                  518.860706     244.747165   \n",
       "Exchangeable Cholesky             530.852329      25.752860   \n",
       "\n",
       "                       Effective samples per second  \n",
       "General Cholesky                           2.119987  \n",
       "Exchangeable Cholesky                     20.613335  "
      ]
     },
     "execution_count": 37,
     "metadata": {},
     "output_type": "execute_result"
    }
   ],
   "source": [
    "half_df"
   ]
  },
  {
   "cell_type": "markdown",
   "id": "f3c78442-74ac-44a7-b6f8-d596b4f72145",
   "metadata": {},
   "source": [
    "We see that these two models have produced essentially the same number of effective samples, but that the exchangeable model has produced this samples in a much shorter period of time than the general model, leading to a significantly higher effective samples per second."
   ]
  },
  {
   "cell_type": "code",
   "execution_count": 38,
   "id": "a5cdebd1-e900-4ae3-9aaa-26cb5d458843",
   "metadata": {},
   "outputs": [
    {
     "data": {
      "image/png": "[encoded data removed]",
      "text/plain": [
       "<Figure size 460.8x518.4 with 3 Axes>"
      ]
     },
     "metadata": {},
     "output_type": "display_data"
    }
   ],
   "source": [
    "fig, axes = plt.subplots(nrows=3, sharex=True,\n",
    "                         figsize=(0.8 * FIG_WIDTH, 1.2 * FIG_HEIGHT))\n",
    "\n",
    "\n",
    "(half_df[\"Effective sample size\"]\n",
    "        .plot.bar(ax=axes[0]));\n",
    "(half_df[\"Sampling time\"]\n",
    "        .plot.bar(ax=axes[1]));\n",
    "(half_df[\"Effective samples per second\"]\n",
    "        .plot.bar(ax=axes[2], rot=False));\n",
    "\n",
    "axes[1].set_ylabel(\"Seconds\");\n",
    "\n",
    "axes[0].set_title(\"Effective sample size\");\n",
    "axes[1].set_title(\"Sampling time\");\n",
    "axes[2].set_title(\"Effective samples per second\");\n",
    "\n",
    "fig.tight_layout()"
   ]
  },
  {
   "cell_type": "markdown",
   "id": "0a76ca54-566b-4c08-8680-3b98fc35e454",
   "metadata": {},
   "source": [
    "Effective samples per second is the metric by which we will ultimately judge our parametrizations."
   ]
  },
  {
   "cell_type": "markdown",
   "id": "9bb61219-b3af-4d7c-99bc-cd4bc4d8207c",
   "metadata": {},
   "source": [
    "### Two-stage sampling for nonnegative correlations\n",
    "\n",
    "There is one more approach that is worth including in this comparison.  If the correlation coefficient $\\rho \\geq 0$ we can produce samples with the desired covariance structure according to the following scheme.\n",
    "\n",
    "1. Sample $w_1, \\ldots z_K \\sim N(0, 1)$.\n",
    "2. Sample $z_{k, t} \\sim N(0, 1)$ for $k = 1, \\ldots, K$ and $t = 1, \\ldots T$.\n",
    "3. Set $\\mu_{k, t} = \\sqrt{\\rho} \\cdot w_k + \\sqrt{1 - \\rho} \\cdot z_{k, t}$.\n",
    "\n",
    "To see that these samples have the appropriate structure we calculate\n",
    "\n",
    "$$\n",
    "\\begin{align}\n",
    "    \\mathbb{Cov}(\\mu_{k, s}, \\mu_{k, t})\n",
    "        & = \\mathbb{Cov}(\\sqrt{\\rho} \\cdot w_k + \\sqrt{1 - \\rho} \\cdot z_{k, s}, \\sqrt{\\rho} \\cdot w_k + \\sqrt{1 - \\rho} \\cdot z_{k, t}) \\\\\n",
    "        & = \\rho + (1 - \\rho) \\cdot \\mathbb{Cov}(z_{k, s}, z_{k, t})\n",
    "\\end{align}\n",
    "$$\n",
    "\n",
    "by independence.  We have\n",
    "\n",
    "$$\n",
    "\\mathbb{Cov}(z_{k, s}, z_{k, t}) = \\begin{cases}\n",
    "    1 & \\text{if } s = t \\\\\n",
    "    0 & \\text{if } s \\neq t\n",
    "\\end{cases},\n",
    "$$\n",
    "\n",
    "so\n",
    "\n",
    "$$\n",
    "\\mathbb{Cov}(\\mu_{k, s}, \\mu_{k, t}) = \\begin{cases}\n",
    "    1 & \\text{if } s = t \\\\\n",
    "    \\rho & \\text{if } s \\neq t\n",
    "\\end{cases}.\n",
    "$$\n",
    "\n",
    "It is clear from the $\\sqrt{\\rho}$ and $\\sqrt{1 - \\rho}$ terms why this sampling scheme requires $0 \\leq \\rho < 1$."
   ]
  },
  {
   "cell_type": "code",
   "execution_count": 39,
   "id": "a3e4d4d0-566b-4761-8d7f-5e6fa34c4a5a",
   "metadata": {},
   "outputs": [],
   "source": [
    "with pm.Model(rng_seeder=SEED) as two_stage_model:\n",
    "    ρ = pm.Uniform(\"ρ\", 0., 1.)\n",
    "\n",
    "    z = pm.Normal(\"z\", 0., 1., shape=(K, 1))\n",
    "    w = pm.Normal(\"w\", 0., 1., shape=(K, T))\n",
    "    μ = at.sqrt(ρ) * z + at.sqrt(1 - ρ) * w\n",
    "    \n",
    "    pm.Normal(\"y_obs\", μ[k_i], 1., observed=pm.Data(\"x\", x))"
   ]
  },
  {
   "cell_type": "markdown",
   "id": "4a678527-4760-4bba-933c-b4377ec2ef0a",
   "metadata": {},
   "source": [
    "We now sample from this model's posterior distribution."
   ]
  },
  {
   "cell_type": "code",
   "execution_count": 40,
   "id": "d1e7ce43-ddb9-4ea5-93f3-c63c965b115f",
   "metadata": {},
   "outputs": [
    {
     "name": "stderr",
     "output_type": "stream",
     "text": [
      "Auto-assigning NUTS sampler...\n",
      "Initializing NUTS using jitter+adapt_diag...\n",
      "Multiprocess sampling (3 chains in 3 jobs)\n",
      "NUTS: [ρ, z, w]\n"
     ]
    },
    {
     "data": {
      "text/html": [
       "\n",
       "    <div>\n",
       "        <style>\n",
       "            /* Turns off some styling */\n",
       "            progress {\n",
       "                /* gets rid of default border in Firefox and Opera. */\n",
       "                border: none;\n",
       "                /* Needs to be in here for Safari polyfill so background images work as expected. */\n",
       "                background-size: auto;\n",
       "            }\n",
       "            .progress-bar-interrupted, .progress-bar-interrupted::-webkit-progress-bar {\n",
       "                background: #F44336;\n",
       "            }\n",
       "        </style>\n",
       "      <progress value='6000' class='' max='6000' style='width:300px; height:20px; vertical-align: middle;'></progress>\n",
       "      100.00% [6000/6000 01:03<00:00 Sampling 3 chains, 0 divergences]\n",
       "    </div>\n",
       "    "
      ],
      "text/plain": [
       "<IPython.core.display.HTML object>"
      ]
     },
     "metadata": {},
     "output_type": "display_data"
    },
    {
     "name": "stderr",
     "output_type": "stream",
     "text": [
      "Sampling 3 chains for 1_000 tune and 1_000 draw iterations (3_000 + 3_000 draws total) took 64 seconds.\n"
     ]
    }
   ],
   "source": [
    "with two_stage_model:\n",
    "    half_traces[ModelType.TWO_STAGE] = pm.sample(**SAMPLE_KWARGS)"
   ]
  },
  {
   "cell_type": "markdown",
   "id": "dc46cfc7-ad25-477f-bb6d-9435e6c7d264",
   "metadata": {},
   "source": [
    "Once again this model recovers the true correlation coefficient roughly as well as the others."
   ]
  },
  {
   "cell_type": "code",
   "execution_count": 41,
   "id": "e45e35d4-7e0b-4096-97cb-2bf4efb03778",
   "metadata": {},
   "outputs": [
    {
     "data": {
      "image/png": "[encoded data removed]",
      "text/plain": [
       "<Figure size 576x432 with 1 Axes>"
      ]
     },
     "metadata": {},
     "output_type": "display_data"
    }
   ],
   "source": [
    "az.plot_posterior(half_traces[ModelType.TWO_STAGE],\n",
    "                  var_names=\"ρ\", ref_val=0.5);"
   ]
  },
  {
   "cell_type": "markdown",
   "id": "a21f14a5-95cc-414c-9701-64534d7d849f",
   "metadata": {},
   "source": [
    "Reevaluating our benchmarks with this model, we see that it samples slightly fewer effective samples per second than the exchangeable model, but is still significantly more efficient than the general model."
   ]
  },
  {
   "cell_type": "code",
   "execution_count": 42,
   "id": "cebf9596-19d1-4c7c-a54a-9b74470b3202",
   "metadata": {},
   "outputs": [],
   "source": [
    "half_df = get_bench_df(half_traces)"
   ]
  },
  {
   "cell_type": "code",
   "execution_count": 43,
   "id": "2977fc1a-d6bc-480f-8888-2e4988369cf8",
   "metadata": {},
   "outputs": [
    {
     "data": {
      "image/png": "[encoded data removed]",
      "text/plain": [
       "<Figure size 460.8x518.4 with 3 Axes>"
      ]
     },
     "metadata": {},
     "output_type": "display_data"
    }
   ],
   "source": [
    "fig, axes = plt.subplots(nrows=3, sharex=True,\n",
    "                         figsize=(0.8 * FIG_WIDTH, 1.2 * FIG_HEIGHT))\n",
    "\n",
    "(half_df[\"Effective sample size\"]\n",
    "        .plot.bar(ax=axes[0]));\n",
    "(half_df[\"Sampling time\"]\n",
    "        .plot.bar(ax=axes[1]));\n",
    "(half_df[\"Effective samples per second\"]\n",
    "        .plot.bar(ax=axes[2], rot=False));\n",
    "\n",
    "axes[1].set_ylabel(\"Seconds\");\n",
    "\n",
    "axes[0].set_title(\"Effective sample size\");\n",
    "axes[1].set_title(\"Sampling time\");\n",
    "axes[2].set_title(\"Effective samples per second\");\n",
    "\n",
    "fig.tight_layout()"
   ]
  },
  {
   "cell_type": "markdown",
   "id": "44ca9211-5ccd-49e8-ae63-8d32b1ee544e",
   "metadata": {},
   "source": [
    "Since the exchangeable model samples slightly more effective samples per second and can accomodate a wider range of correlation coefficients ($-\\frac{1}{T - 1} \\leq \\rho < 1$ versus $0 \\leq \\rho <1$) when compared to the two-stage model, we are inclined to prefer this parameterization."
   ]
  },
  {
   "cell_type": "markdown",
   "id": "776606ca-1109-416c-8155-93cec55cfdca",
   "metadata": {},
   "source": [
    "## Benchmarking\n",
    "\n",
    "Before concluding that the exchangeable Cholesky parametrization is best for the hockey fight application, we will repeat the above exercise across a range of values of $\\rho$ of interest.  We choose the left endpoint the interval, $-\\frac{1}{T - 1} \\leq \\rho < 1$, a few values around zero to see how these parametrizations behave in the neighborhood of zero, and a few larger positive values."
   ]
  },
  {
   "cell_type": "code",
   "execution_count": 44,
   "id": "1a418b13-e957-491b-8091-b0833c158028",
   "metadata": {},
   "outputs": [],
   "source": [
    "RHOS = [-1 / (T - 1), -0.05, 0., 0.05, 0.5, 0.9]"
   ]
  },
  {
   "cell_type": "code",
   "execution_count": 45,
   "id": "80cf75d4-8b65-427e-824c-c6a7e9d9f581",
   "metadata": {},
   "outputs": [],
   "source": [
    "data = {RHO: x}\n",
    "\n",
    "for rho in RHOS:\n",
    "    if rho not in data:\n",
    "        data[rho] = generate_data(rho, rng=rng)"
   ]
  },
  {
   "cell_type": "code",
   "execution_count": 46,
   "id": "914ae5a3-e99d-4bac-bf4a-492486a5bf64",
   "metadata": {},
   "outputs": [],
   "source": [
    "traces = {RHO: half_traces}"
   ]
  },
  {
   "cell_type": "code",
   "execution_count": 47,
   "id": "fce5f31c-9a69-41ab-ba08-e5ffcf00f92c",
   "metadata": {},
   "outputs": [],
   "source": [
    "def can_use_model(rho, name):\n",
    "    return rho >= 0 or name != ModelType.TWO_STAGE\n",
    "\n",
    "def sample_models(rho, x, models, *,\n",
    "                  sample_kwargs=SAMPLE_KWARGS,\n",
    "                  progressbar=True):\n",
    "    traces = {}\n",
    "    \n",
    "    for i, (name, model) in enumerate(models.items()):\n",
    "        if can_use_model(rho, name):\n",
    "            with model:\n",
    "                pm.set_data({\"x\": x})\n",
    "                traces[name] = pm.sample(progressbar=progressbar,\n",
    "                                         **sample_kwargs)\n",
    "            \n",
    "    return traces"
   ]
  },
  {
   "cell_type": "code",
   "execution_count": 48,
   "id": "c69026f5-cfb6-4c80-9f08-b296e602c6a2",
   "metadata": {},
   "outputs": [],
   "source": [
    "@contextmanager\n",
    "def set_log_level(logger, level):\n",
    "    orig_level = logger.getEffectiveLevel()\n",
    "    \n",
    "    try:\n",
    "        logger.setLevel(level)\n",
    "        yield\n",
    "    finally:\n",
    "        logger.setLevel(orig_level)"
   ]
  },
  {
   "cell_type": "code",
   "execution_count": 49,
   "id": "a0dfa9e9-736c-4f88-bb63-4acf3ef7afde",
   "metadata": {},
   "outputs": [],
   "source": [
    "models = {\n",
    "    ModelType.GEN_CHOL: gen_model,\n",
    "    ModelType.EXCH_CHOL: exch_model,\n",
    "    ModelType.TWO_STAGE: two_stage_model\n",
    "}"
   ]
  },
  {
   "cell_type": "code",
   "execution_count": 50,
   "id": "474197c1-95b6-4937-95bc-9144c3834169",
   "metadata": {},
   "outputs": [
    {
     "data": {
      "text/html": [
       "\n",
       "    <div>\n",
       "        <style>\n",
       "            /* Turns off some styling */\n",
       "            progress {\n",
       "                /* gets rid of default border in Firefox and Opera. */\n",
       "                border: none;\n",
       "                /* Needs to be in here for Safari polyfill so background images work as expected. */\n",
       "                background-size: auto;\n",
       "            }\n",
       "            .progress-bar-interrupted, .progress-bar-interrupted::-webkit-progress-bar {\n",
       "                background: #F44336;\n",
       "            }\n",
       "        </style>\n",
       "      <progress value='6' class='' max='6' style='width:300px; height:20px; vertical-align: middle;'></progress>\n",
       "      100.00% [6/6 22:56<00:00 Sampling models for $\\rho = 0.90$]\n",
       "    </div>\n",
       "    "
      ],
      "text/plain": [
       "<IPython.core.display.HTML object>"
      ]
     },
     "metadata": {},
     "output_type": "display_data"
    }
   ],
   "source": [
    "pm_logger = logging.getLogger(\"pymc\")\n",
    "\n",
    "RHOS_prog = progress_bar(RHOS)\n",
    "\n",
    "with set_log_level(pm_logger, logging.CRITICAL):\n",
    "    for rho in RHOS_prog:\n",
    "        RHOS_prog.comment = f\"Sampling models for $\\\\rho = {rho:.2f}$\"\n",
    "\n",
    "        if rho not in traces:\n",
    "            \n",
    "            traces[rho] = sample_models(rho, data[rho], models,\n",
    "                                        progressbar=False)"
   ]
  },
  {
   "cell_type": "markdown",
   "id": "88fa6105-3d7f-4684-a676-e6fac568de49",
   "metadata": {},
   "source": [
    "From these traces, we can get a combined benchmark data frame."
   ]
  },
  {
   "cell_type": "code",
   "execution_count": 51,
   "id": "d877cad3-574b-4d1e-b1f2-c3910e19ebd6",
   "metadata": {},
   "outputs": [],
   "source": [
    "def add_rho_level(rho, df):\n",
    "    return (df.assign(rho=rho)\n",
    "              .rename_axis(\"model\")\n",
    "              .set_index(\"rho\", append=True))"
   ]
  },
  {
   "cell_type": "code",
   "execution_count": 52,
   "id": "719dd6b6-5b7d-41f9-8aee-4ed69c944291",
   "metadata": {},
   "outputs": [],
   "source": [
    "bench_dfs = valmap(get_bench_df, traces)\n",
    "bench_df = (\n",
    "    pd.concat((\n",
    "        add_rho_level(rho, rho_df) for rho, rho_df in bench_dfs.items()\n",
    "      ))\n",
    "      .sort_index(level=\"rho\")\n",
    ")"
   ]
  },
  {
   "cell_type": "code",
   "execution_count": 53,
   "id": "103963c0-3e35-41cb-b3d1-8d3c3193c340",
   "metadata": {},
   "outputs": [
    {
     "data": {
      "text/html": [
       "<div>\n",
       "<style scoped>\n",
       "    .dataframe tbody tr th:only-of-type {\n",
       "        vertical-align: middle;\n",
       "    }\n",
       "\n",
       "    .dataframe tbody tr th {\n",
       "        vertical-align: top;\n",
       "    }\n",
       "\n",
       "    .dataframe thead th {\n",
       "        text-align: right;\n",
       "    }\n",
       "</style>\n",
       "<table border=\"1\" class=\"dataframe\">\n",
       "  <thead>\n",
       "    <tr style=\"text-align: right;\">\n",
       "      <th></th>\n",
       "      <th></th>\n",
       "      <th>Effective sample size</th>\n",
       "      <th>Sampling time</th>\n",
       "      <th>Effective samples per second</th>\n",
       "    </tr>\n",
       "    <tr>\n",
       "      <th>model</th>\n",
       "      <th>rho</th>\n",
       "      <th></th>\n",
       "      <th></th>\n",
       "      <th></th>\n",
       "    </tr>\n",
       "  </thead>\n",
       "  <tbody>\n",
       "    <tr>\n",
       "      <th>Exchangeable Cholesky</th>\n",
       "      <th>-0.333333</th>\n",
       "      <td>63.184842</td>\n",
       "      <td>24.983521</td>\n",
       "      <td>2.529061</td>\n",
       "    </tr>\n",
       "    <tr>\n",
       "      <th>General Cholesky</th>\n",
       "      <th>-0.333333</th>\n",
       "      <td>95.288883</td>\n",
       "      <td>243.715941</td>\n",
       "      <td>0.390983</td>\n",
       "    </tr>\n",
       "    <tr>\n",
       "      <th>Exchangeable Cholesky</th>\n",
       "      <th>-0.050000</th>\n",
       "      <td>364.477740</td>\n",
       "      <td>23.676677</td>\n",
       "      <td>15.393957</td>\n",
       "    </tr>\n",
       "    <tr>\n",
       "      <th>General Cholesky</th>\n",
       "      <th>-0.050000</th>\n",
       "      <td>341.109837</td>\n",
       "      <td>180.427612</td>\n",
       "      <td>1.890563</td>\n",
       "    </tr>\n",
       "    <tr>\n",
       "      <th>Exchangeable Cholesky</th>\n",
       "      <th>0.000000</th>\n",
       "      <td>371.375624</td>\n",
       "      <td>21.831124</td>\n",
       "      <td>17.011292</td>\n",
       "    </tr>\n",
       "  </tbody>\n",
       "</table>\n",
       "</div>"
      ],
      "text/plain": [
       "                                 Effective sample size  Sampling time  \\\n",
       "model                 rho                                               \n",
       "Exchangeable Cholesky -0.333333              63.184842      24.983521   \n",
       "General Cholesky      -0.333333              95.288883     243.715941   \n",
       "Exchangeable Cholesky -0.050000             364.477740      23.676677   \n",
       "General Cholesky      -0.050000             341.109837     180.427612   \n",
       "Exchangeable Cholesky  0.000000             371.375624      21.831124   \n",
       "\n",
       "                                 Effective samples per second  \n",
       "model                 rho                                      \n",
       "Exchangeable Cholesky -0.333333                      2.529061  \n",
       "General Cholesky      -0.333333                      0.390983  \n",
       "Exchangeable Cholesky -0.050000                     15.393957  \n",
       "General Cholesky      -0.050000                      1.890563  \n",
       "Exchangeable Cholesky  0.000000                     17.011292  "
      ]
     },
     "execution_count": 53,
     "metadata": {},
     "output_type": "execute_result"
    }
   ],
   "source": [
    "bench_df.head()"
   ]
  },
  {
   "cell_type": "markdown",
   "id": "bef4cf90-33aa-4e9f-adfd-41a858535d61",
   "metadata": {},
   "source": [
    "This analysis shows that, in every situation we have tested, the exchangeable Cholesky parameterization is preferable in terms of effective samples per second."
   ]
  },
  {
   "cell_type": "code",
   "execution_count": 54,
   "id": "3932eac9-25e1-4b42-81c6-c0deebb95107",
   "metadata": {},
   "outputs": [
    {
     "data": {
      "image/png": "[encoded data removed]",
      "text/plain": [
       "<Figure size 460.8x518.4 with 3 Axes>"
      ]
     },
     "metadata": {},
     "output_type": "display_data"
    }
   ],
   "source": [
    "fig, axes = plt.subplots(nrows=3, sharex=True,\n",
    "                         figsize=(0.8 * FIG_WIDTH, 1.2 * FIG_HEIGHT))\n",
    "\n",
    "sns.barplot(\n",
    "    x=\"rho\",  y=\"Effective sample size\",\n",
    "    data=bench_df.reset_index(),\n",
    "    hue=\"model\", ax=axes[0]\n",
    ");\n",
    "sns.barplot(\n",
    "    x=\"rho\",  y=\"Sampling time\",\n",
    "    data=bench_df.reset_index(),\n",
    "    hue=\"model\", ax=axes[1]\n",
    ");\n",
    "sns.barplot(\n",
    "    x=\"rho\",  y=\"Effective samples per second\",\n",
    "    data=bench_df.reset_index(),\n",
    "    hue=\"model\", ax=axes[2]\n",
    ");\n",
    "\n",
    "axes[0].set_xlabel(None);\n",
    "axes[1].set_xlabel(None);\n",
    "\n",
    "axes[2].set_xticklabels([f\"{rho:.2f}\" for rho in RHOS]);\n",
    "axes[2].set_xlabel(r\"$\\rho$\");\n",
    "\n",
    "axes[0].set_ylabel(None);\n",
    "\n",
    "axes[1].set_yscale('log');\n",
    "axes[1].set_ylim(bottom=0.75);\n",
    "axes[1].set_yticks([1, 10, 100]);\n",
    "axes[1].set_ylabel(\"Seconds\");\n",
    "\n",
    "axes[2].set_ylabel(None);\n",
    "\n",
    "axes[0].set_title(\"Effective sample size\");\n",
    "axes[1].set_title(\"Sampling time\");\n",
    "axes[2].set_title(\"Effective samples per second\");\n",
    "\n",
    "axes[0].legend(loc=\"upper left\", title=\"Parameterization\");\n",
    "axes[1].legend_.set(visible=False);\n",
    "axes[2].legend_.set(visible=False);\n",
    "\n",
    "fig.tight_layout()"
   ]
  },
  {
   "cell_type": "markdown",
   "id": "81cfc6c8-ab6e-426f-8d91-49ba4fe8a49e",
   "metadata": {},
   "source": [
    "Interestingly, the exchangeable parameterization outperforms the two-stage sampling approach by a wider margin in the limit $\\rho \\searrow 0$.\n",
    "\n",
    "Of course if we wanted a really rigorous benchmark we would run inference in each of these situations many times to get a reliable average value and standard deviation for each of these metrics.  I am unfortunately impatient, and collecting this data has already taken quite a while, so this evidence is sufficient for me to prefer the exchangeable Cholesky parameterization in my hockey fight analysis.\n",
    "\n",
    "This post is available as a Jupyter notebook [here](https://nbviewer.org/gist/AustinRochford/8585e3b5d16768f5a1b710f4fb742ec2)."
   ]
  },
  {
   "cell_type": "code",
   "execution_count": 55,
   "id": "7e05638f-de04-4ecb-b308-51d5a1e3786c",
   "metadata": {},
   "outputs": [
    {
     "name": "stdout",
     "output_type": "stream",
     "text": [
      "Last updated: Fri Nov 05 2021\n",
      "\n",
      "Python implementation: CPython\n",
      "Python version       : 3.7.10\n",
      "IPython version      : 7.28.0\n",
      "\n",
      "json      : 2.0.9\n",
      "logging   : 0.5.1.2\n",
      "pymc      : 4.0.0\n",
      "sympy     : 1.9\n",
      "numpy     : 1.19.5\n",
      "aesara    : 2.2.2\n",
      "seaborn   : 0.11.2\n",
      "pandas    : 1.3.3\n",
      "matplotlib: 3.4.3\n",
      "arviz     : 0.11.4\n",
      "\n"
     ]
    }
   ],
   "source": [
    "%load_ext watermark\n",
    "%watermark -n -u -v -iv"
   ]
  }
 ],
 "metadata": {
  "kernelspec": {
   "display_name": "Python 3 (ipykernel)",
   "language": "python",
   "name": "python3"
  },
  "language_info": {
   "codemirror_mode": {
    "name": "ipython",
    "version": 3
   },
   "file_extension": ".py",
   "mimetype": "text/x-python",
   "name": "python",
   "nbconvert_exporter": "python",
   "pygments_lexer": "ipython3",
   "version": "3.7.10"
  },
  "nikola": {
   "author": "Austin Rochford",
   "date": "2021-11-05",
   "slug": "exch-param-pymc",
   "tags": "Bayesian, PyMC",
   "title": "Efficiency of Various Parameterizations for Sampling from Latent Exchangeable Normal Random Variables in PyMC"
  }
 },
 "nbformat": 4,
 "nbformat_minor": 5
}
