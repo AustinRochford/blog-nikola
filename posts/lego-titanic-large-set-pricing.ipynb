{
 "cells": [
  {
   "cell_type": "markdown",
   "id": "554be5a3",
   "metadata": {},
   "source": [
    "Lego recently announced the release of an extreme large (more than 9,000 pieces, roughly 4.5 ft long) [model of the Titanic](https://www.lego.com/en-us/product/lego-titanic-10294) (10294) priced at $629.99.\n",
    "\n",
    "<center><blockquote class=\"twitter-tweet\"><p lang=\"en\" dir=\"ltr\">9,090 pieces. 1.3 meters long (4 ft. 5 in). One LEGO Titanic building project! <a href=\"https://t.co/guhn2isu17\">https://t.co/guhn2isu17</a> <a href=\"https://t.co/jszY6C4MtC\">pic.twitter.com/jszY6C4MtC</a></p>&mdash; LEGO (@LEGO_Group) <a href=\"https://twitter.com/LEGO_Group/status/1446113247342383110?ref_src=twsrc%5Etfw\">October 7, 2021</a></blockquote> <script async src=\"https://platform.twitter.com/widgets.js\" charset=\"utf-8\"></script></center>\n",
    "\n",
    "<center><img alt=\"Lego model of the Titanic (10294)\" src=\"https://www.lego.com/cdn/cs/set/assets/bltb94632aeb971eb91/10294.jpg?fit=bounds&format=jpg&quality=80&width=600&height=600&dpr=1\"></center>\n",
    "\n",
    "Readers of this blog will know that I have written a series of posts ([1](https://austinrochford.com/posts/2021-06-03-vader-meditation.html) [2](https://austinrochford.com/posts/2021-06-10-lego-pymc3.html) [3](https://austinrochford.com/posts/2021-07-20-ucs-gunship.html)) analyzing the factors that drive Lego prices, from the year a set was released to its piece count, theme, and subtheme.  The impending release of the Titanic offers an excellent opportunity to use the model from the [most recent post](https://austinrochford.com/posts/2021-07-20-ucs-gunship.html) in this series to examine the prices of the sets with the largest number of pieces.\n",
    "\n",
    "First we make the necessary Python imports and do a bit of housekeeping."
   ]
  },
  {
   "cell_type": "code",
   "execution_count": 1,
   "id": "eff2cf3f",
   "metadata": {},
   "outputs": [],
   "source": [
    "%matplotlib inline"
   ]
  },
  {
   "cell_type": "code",
   "execution_count": 2,
   "id": "5617046a",
   "metadata": {},
   "outputs": [],
   "source": [
    "import datetime\n",
    "from functools import reduce"
   ]
  },
  {
   "cell_type": "code",
   "execution_count": 3,
   "id": "01ef2290",
   "metadata": {},
   "outputs": [
    {
     "name": "stderr",
     "output_type": "stream",
     "text": [
      "You are running the v4 development version of PyMC3 which currently still lacks key features. You probably want to use the stable v3 instead which you can either install via conda or find on the v3 GitHub branch: https://github.com/pymc-devs/pymc3/tree/v3\n"
     ]
    }
   ],
   "source": [
    "from aesara import shared, tensor as at\n",
    "import arviz as az\n",
    "from matplotlib import MatplotlibDeprecationWarning, pyplot as plt\n",
    "from matplotlib.ticker import StrMethodFormatter\n",
    "import numpy as np\n",
    "import pandas as pd\n",
    "import pymc3 as pm\n",
    "from sklearn.preprocessing import StandardScaler\n",
    "import seaborn as sns\n",
    "import xarray as xr"
   ]
  },
  {
   "cell_type": "code",
   "execution_count": 4,
   "id": "7ac1a816",
   "metadata": {},
   "outputs": [],
   "source": [
    "FIGSIZE = (8, 6)\n",
    "\n",
    "plt.rcParams['figure.figsize'] = FIGSIZE\n",
    "sns.set(color_codes=True)\n",
    "\n",
    "dollar_formatter = StrMethodFormatter(\"${x:,.0f}\")"
   ]
  },
  {
   "cell_type": "markdown",
   "id": "30829364",
   "metadata": {},
   "source": [
    "## Load the Data\n",
    "\n",
    "We begin the real work by loading the data scraped from Brickset. See the [first post](https://austinrochford.com/posts/2021-06-03-vader-meditation.html) in this series for more background on the data."
   ]
  },
  {
   "cell_type": "code",
   "execution_count": 5,
   "id": "850457ee",
   "metadata": {},
   "outputs": [],
   "source": [
    "DATA_URL = 'https://austinrochford.com/resources/lego/brickset_19800101_20211098.csv.gz'"
   ]
  },
  {
   "cell_type": "code",
   "execution_count": 6,
   "id": "f95cfd85",
   "metadata": {},
   "outputs": [],
   "source": [
    "def to_datetime(year):\n",
    "    return np.datetime64(f\"{round(year)}-01-01\")"
   ]
  },
  {
   "cell_type": "code",
   "execution_count": 7,
   "id": "d8ad1c73",
   "metadata": {},
   "outputs": [],
   "source": [
    "COLS = [\n",
    "    \"Year released\", \"Set number\",\n",
    "    \"Name\", \"Set type\", \"Theme\", \"Subtheme\",\n",
    "    \"Pieces\", \"RRP$\"\n",
    "]"
   ]
  },
  {
   "cell_type": "code",
   "execution_count": 8,
   "id": "3bc4835e",
   "metadata": {},
   "outputs": [],
   "source": [
    "full_df = (pd.read_csv(DATA_URL, usecols=COLS)\n",
    "             .dropna(subset=set(COLS) - {\"Subtheme\"}))\n",
    "full_df[\"Year released\"] = full_df[\"Year released\"].apply(to_datetime)\n",
    "full_df = (full_df.sort_values([\"Year released\", \"Set number\"])\n",
    "                  .set_index(\"Set number\"))"
   ]
  },
  {
   "cell_type": "code",
   "execution_count": 9,
   "id": "4b5e6b74",
   "metadata": {},
   "outputs": [
    {
     "data": {
      "text/html": [
       "<div>\n",
       "<style scoped>\n",
       "    .dataframe tbody tr th:only-of-type {\n",
       "        vertical-align: middle;\n",
       "    }\n",
       "\n",
       "    .dataframe tbody tr th {\n",
       "        vertical-align: top;\n",
       "    }\n",
       "\n",
       "    .dataframe thead th {\n",
       "        text-align: right;\n",
       "    }\n",
       "</style>\n",
       "<table border=\"1\" class=\"dataframe\">\n",
       "  <thead>\n",
       "    <tr style=\"text-align: right;\">\n",
       "      <th></th>\n",
       "      <th>Name</th>\n",
       "      <th>Set type</th>\n",
       "      <th>Theme</th>\n",
       "      <th>Year released</th>\n",
       "      <th>Pieces</th>\n",
       "      <th>Subtheme</th>\n",
       "      <th>RRP$</th>\n",
       "    </tr>\n",
       "    <tr>\n",
       "      <th>Set number</th>\n",
       "      <th></th>\n",
       "      <th></th>\n",
       "      <th></th>\n",
       "      <th></th>\n",
       "      <th></th>\n",
       "      <th></th>\n",
       "      <th></th>\n",
       "    </tr>\n",
       "  </thead>\n",
       "  <tbody>\n",
       "    <tr>\n",
       "      <th>1041-2</th>\n",
       "      <td>Educational Duplo Building Set</td>\n",
       "      <td>Normal</td>\n",
       "      <td>Dacta</td>\n",
       "      <td>1980-01-01</td>\n",
       "      <td>68.0</td>\n",
       "      <td>NaN</td>\n",
       "      <td>36.50</td>\n",
       "    </tr>\n",
       "    <tr>\n",
       "      <th>1075-1</th>\n",
       "      <td>LEGO People Supplementary Set</td>\n",
       "      <td>Normal</td>\n",
       "      <td>Dacta</td>\n",
       "      <td>1980-01-01</td>\n",
       "      <td>304.0</td>\n",
       "      <td>NaN</td>\n",
       "      <td>14.50</td>\n",
       "    </tr>\n",
       "    <tr>\n",
       "      <th>1101-1</th>\n",
       "      <td>Replacement 4.5V Motor</td>\n",
       "      <td>Normal</td>\n",
       "      <td>Service Packs</td>\n",
       "      <td>1980-01-01</td>\n",
       "      <td>1.0</td>\n",
       "      <td>NaN</td>\n",
       "      <td>5.65</td>\n",
       "    </tr>\n",
       "    <tr>\n",
       "      <th>1123-1</th>\n",
       "      <td>Ball and Socket Couplings &amp; One Articulated Joint</td>\n",
       "      <td>Normal</td>\n",
       "      <td>Service Packs</td>\n",
       "      <td>1980-01-01</td>\n",
       "      <td>8.0</td>\n",
       "      <td>NaN</td>\n",
       "      <td>16.00</td>\n",
       "    </tr>\n",
       "    <tr>\n",
       "      <th>1130-1</th>\n",
       "      <td>Plastic Folder for Building Instructions</td>\n",
       "      <td>Normal</td>\n",
       "      <td>Service Packs</td>\n",
       "      <td>1980-01-01</td>\n",
       "      <td>1.0</td>\n",
       "      <td>NaN</td>\n",
       "      <td>14.00</td>\n",
       "    </tr>\n",
       "  </tbody>\n",
       "</table>\n",
       "</div>"
      ],
      "text/plain": [
       "                                                         Name Set type  \\\n",
       "Set number                                                               \n",
       "1041-2                         Educational Duplo Building Set   Normal   \n",
       "1075-1                          LEGO People Supplementary Set   Normal   \n",
       "1101-1                                 Replacement 4.5V Motor   Normal   \n",
       "1123-1      Ball and Socket Couplings & One Articulated Joint   Normal   \n",
       "1130-1               Plastic Folder for Building Instructions   Normal   \n",
       "\n",
       "                    Theme Year released  Pieces Subtheme   RRP$  \n",
       "Set number                                                       \n",
       "1041-2              Dacta    1980-01-01    68.0      NaN  36.50  \n",
       "1075-1              Dacta    1980-01-01   304.0      NaN  14.50  \n",
       "1101-1      Service Packs    1980-01-01     1.0      NaN   5.65  \n",
       "1123-1      Service Packs    1980-01-01     8.0      NaN  16.00  \n",
       "1130-1      Service Packs    1980-01-01     1.0      NaN  14.00  "
      ]
     },
     "execution_count": 9,
     "metadata": {},
     "output_type": "execute_result"
    }
   ],
   "source": [
    "full_df.head()"
   ]
  },
  {
   "cell_type": "code",
   "execution_count": 10,
   "id": "f6f4bf38",
   "metadata": {},
   "outputs": [
    {
     "data": {
      "text/html": [
       "<div>\n",
       "<style scoped>\n",
       "    .dataframe tbody tr th:only-of-type {\n",
       "        vertical-align: middle;\n",
       "    }\n",
       "\n",
       "    .dataframe tbody tr th {\n",
       "        vertical-align: top;\n",
       "    }\n",
       "\n",
       "    .dataframe thead th {\n",
       "        text-align: right;\n",
       "    }\n",
       "</style>\n",
       "<table border=\"1\" class=\"dataframe\">\n",
       "  <thead>\n",
       "    <tr style=\"text-align: right;\">\n",
       "      <th></th>\n",
       "      <th>Name</th>\n",
       "      <th>Set type</th>\n",
       "      <th>Theme</th>\n",
       "      <th>Year released</th>\n",
       "      <th>Pieces</th>\n",
       "      <th>Subtheme</th>\n",
       "      <th>RRP$</th>\n",
       "    </tr>\n",
       "    <tr>\n",
       "      <th>Set number</th>\n",
       "      <th></th>\n",
       "      <th></th>\n",
       "      <th></th>\n",
       "      <th></th>\n",
       "      <th></th>\n",
       "      <th></th>\n",
       "      <th></th>\n",
       "    </tr>\n",
       "  </thead>\n",
       "  <tbody>\n",
       "    <tr>\n",
       "      <th>80025-1</th>\n",
       "      <td>Sandy's Power Loader Mech</td>\n",
       "      <td>Normal</td>\n",
       "      <td>Monkie Kid</td>\n",
       "      <td>2021-01-01</td>\n",
       "      <td>520.0</td>\n",
       "      <td>Season 2</td>\n",
       "      <td>54.99</td>\n",
       "    </tr>\n",
       "    <tr>\n",
       "      <th>80026-1</th>\n",
       "      <td>Pigsy's Noodle Tank</td>\n",
       "      <td>Normal</td>\n",
       "      <td>Monkie Kid</td>\n",
       "      <td>2021-01-01</td>\n",
       "      <td>662.0</td>\n",
       "      <td>Season 2</td>\n",
       "      <td>59.99</td>\n",
       "    </tr>\n",
       "    <tr>\n",
       "      <th>80028-1</th>\n",
       "      <td>The Bone Demon</td>\n",
       "      <td>Normal</td>\n",
       "      <td>Monkie Kid</td>\n",
       "      <td>2021-01-01</td>\n",
       "      <td>1375.0</td>\n",
       "      <td>Season 2</td>\n",
       "      <td>119.99</td>\n",
       "    </tr>\n",
       "    <tr>\n",
       "      <th>80106-1</th>\n",
       "      <td>Story of Nian</td>\n",
       "      <td>Normal</td>\n",
       "      <td>Seasonal</td>\n",
       "      <td>2021-01-01</td>\n",
       "      <td>1067.0</td>\n",
       "      <td>Chinese Traditional Festivals</td>\n",
       "      <td>79.99</td>\n",
       "    </tr>\n",
       "    <tr>\n",
       "      <th>80107-1</th>\n",
       "      <td>Spring Lantern Festival</td>\n",
       "      <td>Normal</td>\n",
       "      <td>Seasonal</td>\n",
       "      <td>2021-01-01</td>\n",
       "      <td>1793.0</td>\n",
       "      <td>Chinese Traditional Festivals</td>\n",
       "      <td>119.99</td>\n",
       "    </tr>\n",
       "  </tbody>\n",
       "</table>\n",
       "</div>"
      ],
      "text/plain": [
       "                                 Name Set type       Theme Year released  \\\n",
       "Set number                                                                 \n",
       "80025-1     Sandy's Power Loader Mech   Normal  Monkie Kid    2021-01-01   \n",
       "80026-1           Pigsy's Noodle Tank   Normal  Monkie Kid    2021-01-01   \n",
       "80028-1                The Bone Demon   Normal  Monkie Kid    2021-01-01   \n",
       "80106-1                 Story of Nian   Normal    Seasonal    2021-01-01   \n",
       "80107-1       Spring Lantern Festival   Normal    Seasonal    2021-01-01   \n",
       "\n",
       "            Pieces                       Subtheme    RRP$  \n",
       "Set number                                                 \n",
       "80025-1      520.0                       Season 2   54.99  \n",
       "80026-1      662.0                       Season 2   59.99  \n",
       "80028-1     1375.0                       Season 2  119.99  \n",
       "80106-1     1067.0  Chinese Traditional Festivals   79.99  \n",
       "80107-1     1793.0  Chinese Traditional Festivals  119.99  "
      ]
     },
     "execution_count": 10,
     "metadata": {},
     "output_type": "execute_result"
    }
   ],
   "source": [
    "full_df.tail()"
   ]
  },
  {
   "cell_type": "code",
   "execution_count": 11,
   "id": "d454f329",
   "metadata": {},
   "outputs": [
    {
     "data": {
      "text/html": [
       "<div>\n",
       "<style scoped>\n",
       "    .dataframe tbody tr th:only-of-type {\n",
       "        vertical-align: middle;\n",
       "    }\n",
       "\n",
       "    .dataframe tbody tr th {\n",
       "        vertical-align: top;\n",
       "    }\n",
       "\n",
       "    .dataframe thead th {\n",
       "        text-align: right;\n",
       "    }\n",
       "</style>\n",
       "<table border=\"1\" class=\"dataframe\">\n",
       "  <thead>\n",
       "    <tr style=\"text-align: right;\">\n",
       "      <th></th>\n",
       "      <th>Pieces</th>\n",
       "      <th>RRP$</th>\n",
       "    </tr>\n",
       "  </thead>\n",
       "  <tbody>\n",
       "    <tr>\n",
       "      <th>count</th>\n",
       "      <td>8636.000000</td>\n",
       "      <td>8636.000000</td>\n",
       "    </tr>\n",
       "    <tr>\n",
       "      <th>mean</th>\n",
       "      <td>265.029180</td>\n",
       "      <td>31.741934</td>\n",
       "    </tr>\n",
       "    <tr>\n",
       "      <th>std</th>\n",
       "      <td>500.511219</td>\n",
       "      <td>46.129177</td>\n",
       "    </tr>\n",
       "    <tr>\n",
       "      <th>min</th>\n",
       "      <td>0.000000</td>\n",
       "      <td>0.000000</td>\n",
       "    </tr>\n",
       "    <tr>\n",
       "      <th>25%</th>\n",
       "      <td>32.000000</td>\n",
       "      <td>7.000000</td>\n",
       "    </tr>\n",
       "    <tr>\n",
       "      <th>50%</th>\n",
       "      <td>100.000000</td>\n",
       "      <td>18.000000</td>\n",
       "    </tr>\n",
       "    <tr>\n",
       "      <th>75%</th>\n",
       "      <td>305.000000</td>\n",
       "      <td>39.990000</td>\n",
       "    </tr>\n",
       "    <tr>\n",
       "      <th>max</th>\n",
       "      <td>11695.000000</td>\n",
       "      <td>799.990000</td>\n",
       "    </tr>\n",
       "  </tbody>\n",
       "</table>\n",
       "</div>"
      ],
      "text/plain": [
       "             Pieces         RRP$\n",
       "count   8636.000000  8636.000000\n",
       "mean     265.029180    31.741934\n",
       "std      500.511219    46.129177\n",
       "min        0.000000     0.000000\n",
       "25%       32.000000     7.000000\n",
       "50%      100.000000    18.000000\n",
       "75%      305.000000    39.990000\n",
       "max    11695.000000   799.990000"
      ]
     },
     "execution_count": 11,
     "metadata": {},
     "output_type": "execute_result"
    }
   ],
   "source": [
    "full_df.describe()"
   ]
  },
  {
   "cell_type": "markdown",
   "id": "417e0706",
   "metadata": {},
   "source": [
    "We now add a column `RRP2021`, which is `RRP$` adjusted to 2021 dollars."
   ]
  },
  {
   "cell_type": "code",
   "execution_count": 12,
   "id": "079c8dfc",
   "metadata": {},
   "outputs": [],
   "source": [
    "CPI_URL = 'https://austinrochford.com/resources/lego/CPIAUCNS202100401.csv'"
   ]
  },
  {
   "cell_type": "code",
   "execution_count": 13,
   "id": "93336d94",
   "metadata": {},
   "outputs": [],
   "source": [
    "years = pd.date_range('1979-01-01', '2021-01-01', freq='Y') \\\n",
    "            + datetime.timedelta(days=1)\n",
    "cpi_df = (pd.read_csv(CPI_URL, index_col=\"DATE\", parse_dates=[\"DATE\"])\n",
    "            .loc[years])\n",
    "cpi_df[\"to2021\"] = cpi_df.loc[\"2021-01-01\"] / cpi_df"
   ]
  },
  {
   "cell_type": "code",
   "execution_count": 14,
   "id": "92756632",
   "metadata": {},
   "outputs": [],
   "source": [
    "full_df[\"RRP2021\"] = (pd.merge(full_df, cpi_df,\n",
    "                               left_on=[\"Year released\"],\n",
    "                               right_index=True)\n",
    "                        .apply(lambda df: df[\"RRP$\"] * df[\"to2021\"],\n",
    "                               axis=1))"
   ]
  },
  {
   "cell_type": "markdown",
   "id": "440ba10a",
   "metadata": {},
   "source": [
    "Based on the exploratory data analysis in the first post in this series, we filter `full_df` down to approximately 6,400 sets to be included in our analysis."
   ]
  },
  {
   "cell_type": "code",
   "execution_count": 15,
   "id": "cd6482c5",
   "metadata": {},
   "outputs": [],
   "source": [
    "FILTERS = [\n",
    "    full_df[\"Set type\"] == \"Normal\",\n",
    "    full_df[\"Pieces\"] > 10,\n",
    "    full_df[\"Theme\"] != \"Duplo\",\n",
    "    full_df[\"Theme\"] != \"Service Packs\",\n",
    "    full_df[\"Theme\"] != \"Bulk Bricks\",\n",
    "    full_df[\"RRP2021\"] > 0\n",
    "]"
   ]
  },
  {
   "cell_type": "code",
   "execution_count": 16,
   "id": "922592ea",
   "metadata": {},
   "outputs": [],
   "source": [
    "df = full_df[reduce(np.logical_and, FILTERS)].copy()"
   ]
  },
  {
   "cell_type": "code",
   "execution_count": 17,
   "id": "89d3f94d",
   "metadata": {},
   "outputs": [
    {
     "data": {
      "text/html": [
       "<div>\n",
       "<style scoped>\n",
       "    .dataframe tbody tr th:only-of-type {\n",
       "        vertical-align: middle;\n",
       "    }\n",
       "\n",
       "    .dataframe tbody tr th {\n",
       "        vertical-align: top;\n",
       "    }\n",
       "\n",
       "    .dataframe thead th {\n",
       "        text-align: right;\n",
       "    }\n",
       "</style>\n",
       "<table border=\"1\" class=\"dataframe\">\n",
       "  <thead>\n",
       "    <tr style=\"text-align: right;\">\n",
       "      <th></th>\n",
       "      <th>Name</th>\n",
       "      <th>Set type</th>\n",
       "      <th>Theme</th>\n",
       "      <th>Year released</th>\n",
       "      <th>Pieces</th>\n",
       "      <th>Subtheme</th>\n",
       "      <th>RRP$</th>\n",
       "      <th>RRP2021</th>\n",
       "    </tr>\n",
       "    <tr>\n",
       "      <th>Set number</th>\n",
       "      <th></th>\n",
       "      <th></th>\n",
       "      <th></th>\n",
       "      <th></th>\n",
       "      <th></th>\n",
       "      <th></th>\n",
       "      <th></th>\n",
       "      <th></th>\n",
       "    </tr>\n",
       "  </thead>\n",
       "  <tbody>\n",
       "    <tr>\n",
       "      <th>1041-2</th>\n",
       "      <td>Educational Duplo Building Set</td>\n",
       "      <td>Normal</td>\n",
       "      <td>Dacta</td>\n",
       "      <td>1980-01-01</td>\n",
       "      <td>68.0</td>\n",
       "      <td>NaN</td>\n",
       "      <td>36.50</td>\n",
       "      <td>122.721632</td>\n",
       "    </tr>\n",
       "    <tr>\n",
       "      <th>1075-1</th>\n",
       "      <td>LEGO People Supplementary Set</td>\n",
       "      <td>Normal</td>\n",
       "      <td>Dacta</td>\n",
       "      <td>1980-01-01</td>\n",
       "      <td>304.0</td>\n",
       "      <td>NaN</td>\n",
       "      <td>14.50</td>\n",
       "      <td>48.752429</td>\n",
       "    </tr>\n",
       "    <tr>\n",
       "      <th>5233-1</th>\n",
       "      <td>Bedroom</td>\n",
       "      <td>Normal</td>\n",
       "      <td>Homemaker</td>\n",
       "      <td>1980-01-01</td>\n",
       "      <td>26.0</td>\n",
       "      <td>NaN</td>\n",
       "      <td>4.50</td>\n",
       "      <td>15.130064</td>\n",
       "    </tr>\n",
       "    <tr>\n",
       "      <th>6305-1</th>\n",
       "      <td>Trees and Flowers</td>\n",
       "      <td>Normal</td>\n",
       "      <td>Town</td>\n",
       "      <td>1980-01-01</td>\n",
       "      <td>12.0</td>\n",
       "      <td>Accessories</td>\n",
       "      <td>3.75</td>\n",
       "      <td>12.608387</td>\n",
       "    </tr>\n",
       "    <tr>\n",
       "      <th>6306-1</th>\n",
       "      <td>Road Signs</td>\n",
       "      <td>Normal</td>\n",
       "      <td>Town</td>\n",
       "      <td>1980-01-01</td>\n",
       "      <td>12.0</td>\n",
       "      <td>Accessories</td>\n",
       "      <td>2.50</td>\n",
       "      <td>8.405591</td>\n",
       "    </tr>\n",
       "  </tbody>\n",
       "</table>\n",
       "</div>"
      ],
      "text/plain": [
       "                                      Name Set type      Theme Year released  \\\n",
       "Set number                                                                     \n",
       "1041-2      Educational Duplo Building Set   Normal      Dacta    1980-01-01   \n",
       "1075-1       LEGO People Supplementary Set   Normal      Dacta    1980-01-01   \n",
       "5233-1                             Bedroom   Normal  Homemaker    1980-01-01   \n",
       "6305-1                   Trees and Flowers   Normal       Town    1980-01-01   \n",
       "6306-1                          Road Signs   Normal       Town    1980-01-01   \n",
       "\n",
       "            Pieces     Subtheme   RRP$     RRP2021  \n",
       "Set number                                          \n",
       "1041-2        68.0          NaN  36.50  122.721632  \n",
       "1075-1       304.0          NaN  14.50   48.752429  \n",
       "5233-1        26.0          NaN   4.50   15.130064  \n",
       "6305-1        12.0  Accessories   3.75   12.608387  \n",
       "6306-1        12.0  Accessories   2.50    8.405591  "
      ]
     },
     "execution_count": 17,
     "metadata": {},
     "output_type": "execute_result"
    }
   ],
   "source": [
    "df.head()"
   ]
  },
  {
   "cell_type": "code",
   "execution_count": 18,
   "id": "0a4218fb",
   "metadata": {},
   "outputs": [
    {
     "data": {
      "text/html": [
       "<div>\n",
       "<style scoped>\n",
       "    .dataframe tbody tr th:only-of-type {\n",
       "        vertical-align: middle;\n",
       "    }\n",
       "\n",
       "    .dataframe tbody tr th {\n",
       "        vertical-align: top;\n",
       "    }\n",
       "\n",
       "    .dataframe thead th {\n",
       "        text-align: right;\n",
       "    }\n",
       "</style>\n",
       "<table border=\"1\" class=\"dataframe\">\n",
       "  <thead>\n",
       "    <tr style=\"text-align: right;\">\n",
       "      <th></th>\n",
       "      <th>Name</th>\n",
       "      <th>Set type</th>\n",
       "      <th>Theme</th>\n",
       "      <th>Year released</th>\n",
       "      <th>Pieces</th>\n",
       "      <th>Subtheme</th>\n",
       "      <th>RRP$</th>\n",
       "      <th>RRP2021</th>\n",
       "    </tr>\n",
       "    <tr>\n",
       "      <th>Set number</th>\n",
       "      <th></th>\n",
       "      <th></th>\n",
       "      <th></th>\n",
       "      <th></th>\n",
       "      <th></th>\n",
       "      <th></th>\n",
       "      <th></th>\n",
       "      <th></th>\n",
       "    </tr>\n",
       "  </thead>\n",
       "  <tbody>\n",
       "    <tr>\n",
       "      <th>80025-1</th>\n",
       "      <td>Sandy's Power Loader Mech</td>\n",
       "      <td>Normal</td>\n",
       "      <td>Monkie Kid</td>\n",
       "      <td>2021-01-01</td>\n",
       "      <td>520.0</td>\n",
       "      <td>Season 2</td>\n",
       "      <td>54.99</td>\n",
       "      <td>54.99</td>\n",
       "    </tr>\n",
       "    <tr>\n",
       "      <th>80026-1</th>\n",
       "      <td>Pigsy's Noodle Tank</td>\n",
       "      <td>Normal</td>\n",
       "      <td>Monkie Kid</td>\n",
       "      <td>2021-01-01</td>\n",
       "      <td>662.0</td>\n",
       "      <td>Season 2</td>\n",
       "      <td>59.99</td>\n",
       "      <td>59.99</td>\n",
       "    </tr>\n",
       "    <tr>\n",
       "      <th>80028-1</th>\n",
       "      <td>The Bone Demon</td>\n",
       "      <td>Normal</td>\n",
       "      <td>Monkie Kid</td>\n",
       "      <td>2021-01-01</td>\n",
       "      <td>1375.0</td>\n",
       "      <td>Season 2</td>\n",
       "      <td>119.99</td>\n",
       "      <td>119.99</td>\n",
       "    </tr>\n",
       "    <tr>\n",
       "      <th>80106-1</th>\n",
       "      <td>Story of Nian</td>\n",
       "      <td>Normal</td>\n",
       "      <td>Seasonal</td>\n",
       "      <td>2021-01-01</td>\n",
       "      <td>1067.0</td>\n",
       "      <td>Chinese Traditional Festivals</td>\n",
       "      <td>79.99</td>\n",
       "      <td>79.99</td>\n",
       "    </tr>\n",
       "    <tr>\n",
       "      <th>80107-1</th>\n",
       "      <td>Spring Lantern Festival</td>\n",
       "      <td>Normal</td>\n",
       "      <td>Seasonal</td>\n",
       "      <td>2021-01-01</td>\n",
       "      <td>1793.0</td>\n",
       "      <td>Chinese Traditional Festivals</td>\n",
       "      <td>119.99</td>\n",
       "      <td>119.99</td>\n",
       "    </tr>\n",
       "  </tbody>\n",
       "</table>\n",
       "</div>"
      ],
      "text/plain": [
       "                                 Name Set type       Theme Year released  \\\n",
       "Set number                                                                 \n",
       "80025-1     Sandy's Power Loader Mech   Normal  Monkie Kid    2021-01-01   \n",
       "80026-1           Pigsy's Noodle Tank   Normal  Monkie Kid    2021-01-01   \n",
       "80028-1                The Bone Demon   Normal  Monkie Kid    2021-01-01   \n",
       "80106-1                 Story of Nian   Normal    Seasonal    2021-01-01   \n",
       "80107-1       Spring Lantern Festival   Normal    Seasonal    2021-01-01   \n",
       "\n",
       "            Pieces                       Subtheme    RRP$  RRP2021  \n",
       "Set number                                                          \n",
       "80025-1      520.0                       Season 2   54.99    54.99  \n",
       "80026-1      662.0                       Season 2   59.99    59.99  \n",
       "80028-1     1375.0                       Season 2  119.99   119.99  \n",
       "80106-1     1067.0  Chinese Traditional Festivals   79.99    79.99  \n",
       "80107-1     1793.0  Chinese Traditional Festivals  119.99   119.99  "
      ]
     },
     "execution_count": 18,
     "metadata": {},
     "output_type": "execute_result"
    }
   ],
   "source": [
    "df.tail()"
   ]
  },
  {
   "cell_type": "code",
   "execution_count": 19,
   "id": "5c15c9ef",
   "metadata": {},
   "outputs": [
    {
     "data": {
      "text/html": [
       "<div>\n",
       "<style scoped>\n",
       "    .dataframe tbody tr th:only-of-type {\n",
       "        vertical-align: middle;\n",
       "    }\n",
       "\n",
       "    .dataframe tbody tr th {\n",
       "        vertical-align: top;\n",
       "    }\n",
       "\n",
       "    .dataframe thead th {\n",
       "        text-align: right;\n",
       "    }\n",
       "</style>\n",
       "<table border=\"1\" class=\"dataframe\">\n",
       "  <thead>\n",
       "    <tr style=\"text-align: right;\">\n",
       "      <th></th>\n",
       "      <th>Pieces</th>\n",
       "      <th>RRP$</th>\n",
       "      <th>RRP2021</th>\n",
       "    </tr>\n",
       "  </thead>\n",
       "  <tbody>\n",
       "    <tr>\n",
       "      <th>count</th>\n",
       "      <td>6423.000000</td>\n",
       "      <td>6423.000000</td>\n",
       "      <td>6423.000000</td>\n",
       "    </tr>\n",
       "    <tr>\n",
       "      <th>mean</th>\n",
       "      <td>345.121283</td>\n",
       "      <td>37.652064</td>\n",
       "      <td>46.267159</td>\n",
       "    </tr>\n",
       "    <tr>\n",
       "      <th>std</th>\n",
       "      <td>556.907975</td>\n",
       "      <td>50.917343</td>\n",
       "      <td>59.812083</td>\n",
       "    </tr>\n",
       "    <tr>\n",
       "      <th>min</th>\n",
       "      <td>11.000000</td>\n",
       "      <td>0.600000</td>\n",
       "      <td>0.971220</td>\n",
       "    </tr>\n",
       "    <tr>\n",
       "      <th>25%</th>\n",
       "      <td>69.000000</td>\n",
       "      <td>9.990000</td>\n",
       "      <td>11.896044</td>\n",
       "    </tr>\n",
       "    <tr>\n",
       "      <th>50%</th>\n",
       "      <td>181.000000</td>\n",
       "      <td>19.990000</td>\n",
       "      <td>27.420158</td>\n",
       "    </tr>\n",
       "    <tr>\n",
       "      <th>75%</th>\n",
       "      <td>404.000000</td>\n",
       "      <td>49.990000</td>\n",
       "      <td>56.497192</td>\n",
       "    </tr>\n",
       "    <tr>\n",
       "      <th>max</th>\n",
       "      <td>11695.000000</td>\n",
       "      <td>799.990000</td>\n",
       "      <td>897.373477</td>\n",
       "    </tr>\n",
       "  </tbody>\n",
       "</table>\n",
       "</div>"
      ],
      "text/plain": [
       "             Pieces         RRP$      RRP2021\n",
       "count   6423.000000  6423.000000  6423.000000\n",
       "mean     345.121283    37.652064    46.267159\n",
       "std      556.907975    50.917343    59.812083\n",
       "min       11.000000     0.600000     0.971220\n",
       "25%       69.000000     9.990000    11.896044\n",
       "50%      181.000000    19.990000    27.420158\n",
       "75%      404.000000    49.990000    56.497192\n",
       "max    11695.000000   799.990000   897.373477"
      ]
     },
     "execution_count": 19,
     "metadata": {},
     "output_type": "execute_result"
    }
   ],
   "source": [
    "df.describe()"
   ]
  },
  {
   "cell_type": "markdown",
   "id": "7ef8a559",
   "metadata": {},
   "source": [
    "## Modeling\n",
    "\n",
    "We will reuse the final model from the [previous post](https://austinrochford.com/posts/2021-07-20-ucs-gunship.html).  It includes a time-varying component along with random slopes and intercepts that vary according to the the theme and subtheme of the set in question.\n",
    "\n",
    "First we create our feature vector (standardized log piece count) and our target vector (log RRP in 2021 dollars)."
   ]
  },
  {
   "cell_type": "code",
   "execution_count": 20,
   "id": "d4de2c83",
   "metadata": {},
   "outputs": [],
   "source": [
    "pieces = df[\"Pieces\"].values\n",
    "log_pieces = np.log(df[\"Pieces\"].values)\n",
    "\n",
    "scaler = StandardScaler().fit(log_pieces[:, np.newaxis])\n",
    "\n",
    "def scale_log_pieces(log_pieces, scaler=scaler):\n",
    "    return scaler.transform(log_pieces[:, np.newaxis])[:, 0]\n",
    "\n",
    "std_log_pieces = scale_log_pieces(log_pieces)"
   ]
  },
  {
   "cell_type": "code",
   "execution_count": 21,
   "id": "f81c6069",
   "metadata": {},
   "outputs": [],
   "source": [
    "rrp2021 = df[\"RRP2021\"].values\n",
    "log_rrp2021 = np.log(rrp2021)"
   ]
  },
  {
   "cell_type": "markdown",
   "id": "6adcef5e",
   "metadata": {},
   "source": [
    "Next we build indicator variables for the themes and subthemes."
   ]
  },
  {
   "cell_type": "code",
   "execution_count": 22,
   "id": "b1b744db",
   "metadata": {},
   "outputs": [],
   "source": [
    "theme_id, theme_map = df[\"Theme\"].factorize(sort=True)\n",
    "\n",
    "theme_mean_std_log_pieces = (pd.Series(std_log_pieces, index=df.index)\n",
    "                               .groupby(df[\"Theme\"])\n",
    "                               .mean())"
   ]
  },
  {
   "cell_type": "code",
   "execution_count": 23,
   "id": "65f47a9a",
   "metadata": {},
   "outputs": [],
   "source": [
    "sub_id, sub_map = df[\"Subtheme\"].factorize(sort=True)\n",
    "n_sub = sub_map.size\n",
    "\n",
    "sub_isnull = sub_id == -1\n",
    "\n",
    "sub_mean_std_log_pieces = (pd.Series(std_log_pieces, index=df.index)\n",
    "                             .groupby(df[\"Subtheme\"])\n",
    "                             .mean())"
   ]
  },
  {
   "cell_type": "markdown",
   "id": "c3762d07",
   "metadata": {},
   "source": [
    "Finally, we transform the year each set was released into the number of years since 1980, when our data set begins."
   ]
  },
  {
   "cell_type": "code",
   "execution_count": 24,
   "id": "6d857b09",
   "metadata": {},
   "outputs": [],
   "source": [
    "year = (df[\"Year released\"]\n",
    "          .dt.year\n",
    "          .values)\n",
    "t = year - year.min()"
   ]
  },
  {
   "cell_type": "markdown",
   "id": "e61bdd7a",
   "metadata": {},
   "source": [
    "We now recreate the model as in the previous post."
   ]
  },
  {
   "cell_type": "code",
   "execution_count": 25,
   "id": "23a1ed46",
   "metadata": {},
   "outputs": [],
   "source": [
    "def hierarchical_normal(name, *, dims, μ=None):\n",
    "    if μ is None:\n",
    "        μ = pm.Normal(f\"μ_{name}\", 0., 2.5)\n",
    "\n",
    "    Δ = pm.Normal(f\"Δ_{name}\", 0., 1., dims=dims)\n",
    "    σ = pm.HalfNormal(f\"σ_{name}\", 2.5)\n",
    "    \n",
    "    return pm.Deterministic(name, μ + Δ * σ, dims=dims)\n",
    "\n",
    "def hierarchical_normal_with_mean(name, x_mean, *, dims,\n",
    "                                  μ=None, mean_name=\"γ\"):\n",
    "    mean_coef = pm.Normal(f\"{mean_name}_{name}\", 0., 2.5)\n",
    "        \n",
    "    return pm.Deterministic(\n",
    "        name,\n",
    "        hierarchical_normal(f\"_{name}\", dims=dims, μ=μ) \\\n",
    "            + mean_coef * x_mean,\n",
    "        dims=dims\n",
    "    )"
   ]
  },
  {
   "cell_type": "code",
   "execution_count": 26,
   "id": "aef93eaf",
   "metadata": {},
   "outputs": [],
   "source": [
    "def gaussian_random_walk(name, *, dims, innov_scale=1.):\n",
    "    Δ = pm.Normal(f\"Δ_{name}\", 0., innov_scale,  dims=dims)\n",
    "\n",
    "    return pm.Deterministic(name, Δ.cumsum(), dims=dims)"
   ]
  },
  {
   "cell_type": "code",
   "execution_count": 27,
   "id": "c64b6481",
   "metadata": {},
   "outputs": [],
   "source": [
    "coords = {\n",
    "    \"set\": df.index.values,\n",
    "    \"sub\": sub_map,\n",
    "    \"theme\": theme_map,\n",
    "    \"year\": np.unique(year)\n",
    "}"
   ]
  },
  {
   "cell_type": "markdown",
   "id": "978490fb",
   "metadata": {},
   "source": [
    "First we specify the components of the intercept."
   ]
  },
  {
   "cell_type": "code",
   "execution_count": 28,
   "id": "b4bd6eb5",
   "metadata": {},
   "outputs": [],
   "source": [
    "with pm.Model(coords=coords) as model:\n",
    "    β0_0 = pm.Normal(\"β0_0\", 0., 2.5)\n",
    "    β0_t = gaussian_random_walk(\"β0_t\", dims=\"year\",\n",
    "                                innov_scale=0.1)\n",
    "    \n",
    "    β0_theme = hierarchical_normal_with_mean(\n",
    "        \"β0_theme\",\n",
    "        theme_mean_std_log_pieces.values,\n",
    "        dims=\"theme\", μ=0.\n",
    "    )\n",
    "    \n",
    "    β0_sub_null = pm.Normal(\"β0_sub_null\", 0., 2.5)\n",
    "    β0_sub_nn = hierarchical_normal_with_mean(\n",
    "        \"β0_sub_nn\",\n",
    "        sub_mean_std_log_pieces.values,\n",
    "        dims=\"sub\", μ=0., mean_name=\"λ\"\n",
    "    )\n",
    "    β0_sub_i = at.switch(\n",
    "        sub_isnull,\n",
    "        β0_sub_null,\n",
    "        β0_sub_nn[at.clip(sub_id, 0, n_sub)]\n",
    "    )\n",
    "    \n",
    "    β0_i = β0_0 + β0_t[t] + β0_theme[theme_id] + β0_sub_i"
   ]
  },
  {
   "cell_type": "markdown",
   "id": "6d1ebf6d",
   "metadata": {},
   "source": [
    "We specify the components of the slope for the (standardized log) number of pieces in the set analagously."
   ]
  },
  {
   "cell_type": "code",
   "execution_count": 29,
   "id": "849bb767",
   "metadata": {},
   "outputs": [],
   "source": [
    "with model:\n",
    "    β_pieces_0 = pm.Normal(\"β_pieces_0\", 0., 2.5)\n",
    "    \n",
    "    β_pieces_theme = hierarchical_normal_with_mean(\n",
    "        \"β_pieces_theme\",\n",
    "        theme_mean_std_log_pieces.values,\n",
    "        dims=\"theme\", μ=0.\n",
    "    )\n",
    "    \n",
    "    β_pieces_sub_null = pm.Normal(\"β_pieces_sub_null\", 0., 2.5)\n",
    "    β_pieces_sub_nn = hierarchical_normal_with_mean(\n",
    "        \"β_pieces_sub_nn\",\n",
    "        sub_mean_std_log_pieces.values,\n",
    "        dims=\"sub\", μ=0., mean_name=\"λ\"\n",
    "    )\n",
    "    β_pieces_sub_i = at.switch(\n",
    "        sub_isnull,\n",
    "        β_pieces_sub_null,\n",
    "        β_pieces_sub_nn[at.clip(sub_id, 0, n_sub)]\n",
    "    )\n",
    "\n",
    "    β_pieces_i = β_pieces_0 + β_pieces_theme[theme_id] + β_pieces_sub_i"
   ]
  },
  {
   "cell_type": "markdown",
   "id": "c8f3bb21",
   "metadata": {},
   "source": [
    "Finally we specify the observational likelihood."
   ]
  },
  {
   "cell_type": "code",
   "execution_count": 30,
   "id": "73c2232e",
   "metadata": {},
   "outputs": [],
   "source": [
    "with model:\n",
    "    σ = pm.HalfNormal(\"σ\", 5.)\n",
    "    μ = β0_i + β_pieces_i * std_log_pieces - 0.5 * σ**2\n",
    "    \n",
    "    obs = pm.Normal(\"obs\", μ, σ, dims=\"set\",\n",
    "                    observed=log_rrp2021)"
   ]
  },
  {
   "cell_type": "markdown",
   "id": "020c0444",
   "metadata": {},
   "source": [
    "We are now ready to sample from the posterior distribution of this model."
   ]
  },
  {
   "cell_type": "code",
   "execution_count": 31,
   "id": "1c233e65",
   "metadata": {},
   "outputs": [],
   "source": [
    "CHAINS = 3\n",
    "SEED = 123456789\n",
    "\n",
    "SAMPLE_KWARGS = {\n",
    "    'cores': CHAINS,\n",
    "    'random_seed': [SEED + i for i in range(CHAINS)],\n",
    "    'return_inferencedata': True\n",
    "}"
   ]
  },
  {
   "cell_type": "code",
   "execution_count": 32,
   "id": "a5528cc2",
   "metadata": {},
   "outputs": [
    {
     "name": "stderr",
     "output_type": "stream",
     "text": [
      "Auto-assigning NUTS sampler...\n",
      "Initializing NUTS using jitter+adapt_diag...\n",
      "Multiprocess sampling (3 chains in 3 jobs)\n",
      "NUTS: [β0_0, Δ_β0_t, γ_β0_theme, Δ__β0_theme, σ__β0_theme, β0_sub_null, λ_β0_sub_nn, Δ__β0_sub_nn, σ__β0_sub_nn, β_pieces_0, γ_β_pieces_theme, Δ__β_pieces_theme, σ__β_pieces_theme, β_pieces_sub_null, λ_β_pieces_sub_nn, Δ__β_pieces_sub_nn, σ__β_pieces_sub_nn, σ]\n"
     ]
    },
    {
     "data": {
      "text/html": [
       "\n",
       "    <div>\n",
       "        <style>\n",
       "            /* Turns off some styling */\n",
       "            progress {\n",
       "                /* gets rid of default border in Firefox and Opera. */\n",
       "                border: none;\n",
       "                /* Needs to be in here for Safari polyfill so background images work as expected. */\n",
       "                background-size: auto;\n",
       "            }\n",
       "            .progress-bar-interrupted, .progress-bar-interrupted::-webkit-progress-bar {\n",
       "                background: #F44336;\n",
       "            }\n",
       "        </style>\n",
       "      <progress value='6000' class='' max='6000' style='width:300px; height:20px; vertical-align: middle;'></progress>\n",
       "      100.00% [6000/6000 17:15<00:00 Sampling 3 chains, 0 divergences]\n",
       "    </div>\n",
       "    "
      ],
      "text/plain": [
       "<IPython.core.display.HTML object>"
      ]
     },
     "metadata": {},
     "output_type": "display_data"
    },
    {
     "name": "stderr",
     "output_type": "stream",
     "text": [
      "Sampling 3 chains for 1_000 tune and 1_000 draw iterations (3_000 + 3_000 draws total) took 1036 seconds.\n",
      "The number of effective samples is smaller than 10% for some parameters.\n"
     ]
    },
    {
     "data": {
      "text/html": [
       "\n",
       "    <div>\n",
       "        <style>\n",
       "            /* Turns off some styling */\n",
       "            progress {\n",
       "                /* gets rid of default border in Firefox and Opera. */\n",
       "                border: none;\n",
       "                /* Needs to be in here for Safari polyfill so background images work as expected. */\n",
       "                background-size: auto;\n",
       "            }\n",
       "            .progress-bar-interrupted, .progress-bar-interrupted::-webkit-progress-bar {\n",
       "                background: #F44336;\n",
       "            }\n",
       "        </style>\n",
       "      <progress value='3000' class='' max='3000' style='width:300px; height:20px; vertical-align: middle;'></progress>\n",
       "      100.00% [3000/3000 00:02<00:00]\n",
       "    </div>\n",
       "    "
      ],
      "text/plain": [
       "<IPython.core.display.HTML object>"
      ]
     },
     "metadata": {},
     "output_type": "display_data"
    }
   ],
   "source": [
    "with model:\n",
    "    trace = pm.sample(**SAMPLE_KWARGS)\n",
    "    pp_trace = pm.to_inference_data(\n",
    "        posterior_predictive=pm.sample_posterior_predictive(trace)\n",
    "    )\n",
    "\n",
    "trace.extend(pp_trace)"
   ]
  },
  {
   "cell_type": "markdown",
   "id": "e349ab66",
   "metadata": {},
   "source": [
    "Standard sampling diangostics show no cause for concern."
   ]
  },
  {
   "cell_type": "code",
   "execution_count": 33,
   "id": "b60faa37",
   "metadata": {},
   "outputs": [
    {
     "data": {
      "image/png": "[encoded data removed]",
      "text/plain": [
       "<Figure size 576x432 with 1 Axes>"
      ]
     },
     "metadata": {},
     "output_type": "display_data"
    }
   ],
   "source": [
    "az.plot_energy(trace);"
   ]
  },
  {
   "cell_type": "code",
   "execution_count": 34,
   "id": "5592682d",
   "metadata": {},
   "outputs": [
    {
     "name": "stdout",
     "output_type": "stream",
     "text": [
      "<xarray.DataArray ()>\n",
      "array(1.01564337)\n"
     ]
    }
   ],
   "source": [
    "print(az.rhat(trace)\n",
    "        .max()\n",
    "        .to_array()\n",
    "        .max())"
   ]
  },
  {
   "cell_type": "markdown",
   "id": "35464577",
   "metadata": {},
   "source": [
    "## Analysis\n",
    "\n",
    "Now that we have sampled from the posterior distribution of the model, we are finally prepared to analyze and interpret the pricing of the sets with the largest number of pieces.  First we select the twenty sets with the largest piece count for closer inspection."
   ]
  },
  {
   "cell_type": "code",
   "execution_count": 35,
   "id": "16769088",
   "metadata": {},
   "outputs": [],
   "source": [
    "N_TOP = 20\n",
    "\n",
    "top_by_pieces = df.nlargest(N_TOP, \"Pieces\")"
   ]
  },
  {
   "cell_type": "markdown",
   "id": "3fa3c2f8",
   "metadata": {},
   "source": [
    "We examine the posterior predictive distributions of each of these set's price compared to its actual recommended retail price below."
   ]
  },
  {
   "cell_type": "code",
   "execution_count": 36,
   "id": "6d79b3ed",
   "metadata": {},
   "outputs": [],
   "source": [
    "def make_set_label(row):\n",
    "    name = row[\"Name\"]\n",
    "    set_number, _ = row.name.split('-', 1)\n",
    "    pieces = int(row[\"Pieces\"])\n",
    "    \n",
    "    return f\"{name} ({set_number})\\n{pieces:,} pieces\""
   ]
  },
  {
   "cell_type": "code",
   "execution_count": 37,
   "id": "d480b9d8",
   "metadata": {},
   "outputs": [
    {
     "data": {
      "image/png": "[encoded data removed]",
      "text/plain": [
       "<Figure size 576x864 with 1 Axes>"
      ]
     },
     "metadata": {},
     "output_type": "display_data"
    }
   ],
   "source": [
    "fig, ax = plt.subplots(figsize=(FIGSIZE[0], 2 * FIGSIZE[1]))\n",
    "\n",
    "az.plot_forest(\n",
    "    trace.posterior_predictive,\n",
    "    var_names=[\"obs\"],\n",
    "    coords={\"set\": top_by_pieces.index},\n",
    "    transform=np.exp,\n",
    "    ax=ax\n",
    ");\n",
    "ax.scatter(\n",
    "    top_by_pieces[\"RRP2021\"][::-1],\n",
    "    ax.get_yticks(),\n",
    "    c='k', label=\"Actual\", zorder=5\n",
    ");\n",
    "\n",
    "ax.set_yticklabels(\n",
    "    top_by_pieces.apply(make_set_label, axis=1)[::-1]\n",
    ");\n",
    "\n",
    "ax.xaxis.set_major_formatter(dollar_formatter);\n",
    "ax.set_xlabel(\"Posterior predicted RRP (2021 $)\");\n",
    "\n",
    "ax.legend();\n",
    "ax.set_title(\"Sets with the most pieces\");"
   ]
  },
  {
   "cell_type": "markdown",
   "id": "1526c313",
   "metadata": {},
   "source": [
    "The first time I drew this plot I was a bit surprised at how well the model predicts the prices for these large sets.  I expected to see larger deviations for sets with an extreme number of pieces (more than about 3,000), so this is a pleasant surprise.  It is worth nothing that while the model's predictions are accurate for most of these large sets, there are a few sets where the actual price are further from the posterior expected value.  These sets are worth focusing on."
   ]
  },
  {
   "cell_type": "code",
   "execution_count": 38,
   "id": "4054919f",
   "metadata": {},
   "outputs": [],
   "source": [
    "FOCUS_SETS = [\n",
    "    \"31203-1\",\n",
    "    \"10294-1\",\n",
    "    \"71043-1\",\n",
    "    \"2000409-1\",\n",
    "    \"75252-1\",\n",
    "    \"10214-1\"\n",
    "]"
   ]
  },
  {
   "cell_type": "code",
   "execution_count": 39,
   "id": "008bc904",
   "metadata": {},
   "outputs": [
    {
     "data": {
      "image/png": "[encoded data removed]",
      "text/plain": [
       "<Figure size 576x432 with 1 Axes>"
      ]
     },
     "metadata": {},
     "output_type": "display_data"
    }
   ],
   "source": [
    "fig, ax = plt.subplots()\n",
    "\n",
    "az.plot_forest(\n",
    "    trace.posterior_predictive,\n",
    "    var_names=[\"obs\"],\n",
    "    coords={\"set\": FOCUS_SETS},\n",
    "    transform=np.exp,\n",
    "    ax=ax\n",
    ");\n",
    "ax.scatter(\n",
    "    df[\"RRP2021\"]\n",
    "      .loc[FOCUS_SETS]\n",
    "      [::-1],\n",
    "    ax.get_yticks(),\n",
    "    c='k', label=\"Actual\", zorder=5\n",
    ");\n",
    "\n",
    "ax.set_yticklabels(\n",
    "    df.loc[FOCUS_SETS]\n",
    "      .apply(make_set_label, axis=1)\n",
    "      [::-1]\n",
    ");\n",
    "\n",
    "ax.xaxis.set_major_formatter(dollar_formatter);\n",
    "ax.set_xlabel(\"Posterior predicted RRP (2021 $)\");\n",
    "\n",
    "ax.legend();\n",
    "ax.set_title(None);"
   ]
  },
  {
   "cell_type": "markdown",
   "id": "3f9560a9",
   "metadata": {},
   "source": [
    "Sets that are priced significantly lower than their posterior expected value tend to have lots of similar small and/or standard pieces.\n",
    "\n",
    "* The [World Map (31203)](https://www.lego.com/en-gb/product/world-map-31203) contains thousands of small dots.\n",
    "\n",
    "<center><img alt=\"Lego World Map (31203)\" src=\"https://www.lego.com/cdn/cs/set/assets/blt6e4605758d75ce41/31203.jpg?fit=bounds&format=jpg&quality=80&width=600&height=600&dpr=1\"></center>\n",
    "\n",
    "* The [Window Exploration Bag (2000409)](https://www.lego.com/en-us/product/window-exploration-bag-2000409) contains thousands of fairly standard bricks.  (I had never heard of Lego's [\"Serious Play\"](https://www.lego.com/en-us/seriousplay) method before, and it is interesting and may merit a post of its own.)\n",
    "\n",
    "<center><img alt=\"Lego Window Exploration Bag (2000409)\" src=\"https://www.lego.com/cdn/cs/set/assets/bltf952785f84bbefa6/2000409.jpg?fit=bounds&format=jpg&quality=80&width=600&height=600&dpr=1\"></center>\n",
    "\n",
    "* [Tower Bridge (10214)](https://www.lego.com/en-us/product/tower-bridge-10214) conforms to this explanation slightly less well, but there are still large repetitive portions (turrets, bridge suspension cables) that require many fairly standard pieces.\n",
    "\n",
    "<center><img alt=\"Lego Tower Bridge (10214)\" src=\"https://www.lego.com/cdn/cs/set/assets/bltc4f19e085e17bcea/10214.jpg?fit=bounds&format=jpg&quality=80&width=600&height=600&dpr=1\"></center>\n",
    "\n",
    "In light of these similarities for large sets that are underpriced relative to our predictions, it makes sense to consider including information about the pieces included in the set (and the quantity of each piece that is included) in a future model.  I have not scraped this data about the piece composition of each set yet, but it is available from [Brickset](https://brickset.com/) an probably also from [BrickLink](https://bricklink.com).\n",
    "\n",
    "Sets that are priced significantly higher than their posterior expected value include the Titanic (10294), [Hogwarts Castle (71043)](https://www.lego.com/en-us/product/hogwarts-castle-71043) and the [Ultimate Collector Series Imperial Star Destroyer (75252)](https://www.lego.com/en-us/product/imperial-star-destroyer-75252).  Each of these sets is iconic either on its own (the Titanic) or within the associated media franchies (Harry Potter and Star Wars).  It seems reasonable that Lego may be able to charge a premium on such sets.  Note that this interpretation does not hold true for all sets, as the [Ultimate Collector Series Millenium Falcon (75192)](https://www.lego.com/en-us/product/millennium-falcon-75192) is perhaps even more iconic than the Imperial Star Destroyer.  In this instance, Lego may believe that the recommended retail price of $799.99 is near the maximum that the market will reasonably bear for a Lego set.\n",
    "\n",
    "We can examine the posterior predictive distribution of some individual sets in more detail."
   ]
  },
  {
   "cell_type": "code",
   "execution_count": 40,
   "id": "1763cd95",
   "metadata": {},
   "outputs": [],
   "source": [
    "def format_posterior_artist(artist, formatter):\n",
    "    text = artist.get_text()\n",
    "    x, _ = artist.get_position()\n",
    "\n",
    "    if text.startswith(\" \") or text.endswith(\" \"):\n",
    "        fmtd_text = formatter(x)\n",
    "        artist.set_text(\n",
    "            \" \" + fmtd_text if text.startswith(\" \") else fmtd_text + \" \"\n",
    "        )\n",
    "    elif \"=\" in text:\n",
    "        before, _ = text.split(\"=\")\n",
    "        artist.set_text(\"=\".join((before, formatter(x))))\n",
    "    elif \"<\" in text:\n",
    "        below, ref_val_str, above = text.split(\"<\")\n",
    "        artist.set_text(\"<\".join((\n",
    "            below,\n",
    "            \" \" + formatter(float(ref_val_str)) + \" \",\n",
    "            above\n",
    "        )))\n",
    "\n",
    "def format_posterior_text(formatter, ax=None):\n",
    "    if ax is None:\n",
    "        ax = plt.gca()\n",
    "    \n",
    "    artists = [artist for artist in ax.get_children() if isinstance(artist, plt.Text)]\n",
    "    \n",
    "    for artist in artists:\n",
    "        format_posterior_artist(artist, formatter)"
   ]
  },
  {
   "cell_type": "code",
   "execution_count": 41,
   "id": "483b791e",
   "metadata": {},
   "outputs": [],
   "source": [
    "def plot_set_posterior(set_number, df, ax=None):\n",
    "    if ax is None:\n",
    "        fig, ax = plt.subplots()\n",
    "    \n",
    "    az.plot_posterior(\n",
    "        trace, var_names=[\"obs\"],\n",
    "        group=\"posterior_predictive\",\n",
    "        coords={\"set\": f\"{set_number}-1\"},\n",
    "        transform=np.exp,\n",
    "        ref_val=df[\"RRP2021\"].loc[f\"{set_number}-1\"],\n",
    "        ax=ax\n",
    "    )\n",
    "\n",
    "    format_posterior_text(dollar_formatter, ax=ax)\n",
    "\n",
    "    ax.set_xlabel(\"Posterior predicted RRP (2021 $)\")\n",
    "    ax.set_title(f\"{df['Name'].loc[set_number + '-1']} ({set_number})\")\n",
    "    \n",
    "    return ax"
   ]
  },
  {
   "cell_type": "markdown",
   "id": "18cbede3",
   "metadata": {},
   "source": [
    "As seen above, the Titanic (10294) is a bit overpriced according to our model, but not unreasonably so."
   ]
  },
  {
   "cell_type": "code",
   "execution_count": 42,
   "id": "7aea6576",
   "metadata": {},
   "outputs": [
    {
     "data": {
      "image/png": "[encoded data removed]",
      "text/plain": [
       "<Figure size 576x432 with 1 Axes>"
      ]
     },
     "metadata": {},
     "output_type": "display_data"
    }
   ],
   "source": [
    "TITANIC_SET_NUMBER = \"10294\"\n",
    "plot_set_posterior(TITANIC_SET_NUMBER, df);"
   ]
  },
  {
   "cell_type": "markdown",
   "id": "c4adeec0",
   "metadata": {},
   "source": [
    "We see that the Millenium Falcon (75192) is priced right about in line with the models expectations."
   ]
  },
  {
   "cell_type": "code",
   "execution_count": 43,
   "id": "445faff5",
   "metadata": {},
   "outputs": [
    {
     "data": {
      "image/png": "[encoded data removed]",
      "text/plain": [
       "<Figure size 576x432 with 1 Axes>"
      ]
     },
     "metadata": {},
     "output_type": "display_data"
    }
   ],
   "source": [
    "MF_SET_NUMBER = \"75192\"\n",
    "plot_set_posterior(MF_SET_NUMBER, df);"
   ]
  },
  {
   "cell_type": "markdown",
   "id": "5f6e17d9",
   "metadata": {},
   "source": [
    "I hope this analysis has been as interesting to you as it has to me. I am pleasantly surprised at how well the model predicts set prices even when the number of pieces is extremely large.  While this analysis has not sold me on the Titanic, it adds to my desire to get the Ultimate Collector Series Millenium Falcon and Imperial Star Destroy some day. (Unfortunately?) I have to finish my half-built [Super Star Destroyer (10221)](https://brickset.com/sets/10221-1/Super-Star-Destroyer) first.\n",
    "\n",
    "This post is available as a Jupyter notebook [here](https://nbviewer.org/gist/AustinRochford/a509641ba402eac9878490cc3de53bb0)."
   ]
  },
  {
   "cell_type": "code",
   "execution_count": 44,
   "id": "00e479c2",
   "metadata": {},
   "outputs": [
    {
     "name": "stdout",
     "output_type": "stream",
     "text": [
      "Last updated: Tue Oct 12 2021\n",
      "\n",
      "Python implementation: CPython\n",
      "Python version       : 3.7.10\n",
      "IPython version      : 7.25.0\n",
      "\n",
      "arviz     : 0.11.2\n",
      "seaborn   : 0.11.1\n",
      "matplotlib: 3.4.2\n",
      "aesara    : 2.1.3\n",
      "xarray    : 0.19.0\n",
      "pymc3     : 4.0\n",
      "numpy     : 1.19.5\n",
      "pandas    : 1.3.0\n",
      "\n"
     ]
    }
   ],
   "source": [
    "%load_ext watermark\n",
    "%watermark -n -u -v -iv"
   ]
  }
 ],
 "metadata": {
  "kernelspec": {
   "display_name": "Python 3 (ipykernel)",
   "language": "python",
   "name": "python3"
  },
  "language_info": {
   "codemirror_mode": {
    "name": "ipython",
    "version": 3
   },
   "file_extension": ".py",
   "mimetype": "text/x-python",
   "name": "python",
   "nbconvert_exporter": "python",
   "pygments_lexer": "ipython3",
   "version": "3.7.10"
  },
  "nikola": {
   "title": "A Fair Price for the Titanic? A Bayesian Analysis of the Price of Large Lego Sets",
   "slug": "lego-titanic-large-set-pricing",
   "tags": "Bayesian, Lego, PyMC3, Python",
   "date": "2021-10-12"
  }
 },
 "nbformat": 4,
 "nbformat_minor": 5
}
